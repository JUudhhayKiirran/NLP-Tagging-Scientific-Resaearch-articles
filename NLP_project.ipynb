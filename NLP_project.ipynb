{
  "nbformat": 4,
  "nbformat_minor": 0,
  "metadata": {
    "colab": {
      "provenance": [],
      "include_colab_link": true
    },
    "kernelspec": {
      "name": "python3",
      "display_name": "Python 3"
    },
    "language_info": {
      "name": "python"
    }
  },
  "cells": [
    {
      "cell_type": "markdown",
      "metadata": {
        "id": "view-in-github",
        "colab_type": "text"
      },
      "source": [
        "<a href=\"https://colab.research.google.com/github/JUudhhayKiirran/NLP-Tagging-Scientific-Resaearch-articles/blob/main/NLP_project.ipynb\" target=\"_parent\"><img src=\"https://colab.research.google.com/assets/colab-badge.svg\" alt=\"Open In Colab\"/></a>"
      ]
    },
    {
      "cell_type": "markdown",
      "source": [
        "# Presentation link"
      ],
      "metadata": {
        "id": "93tsBpwVRCaL"
      }
    },
    {
      "cell_type": "markdown",
      "source": [
        "https://www.canva.com/design/DAFcDO1i1xA/naJzljv3HVmnySy0Upr2ig/edit?utm_content=DAFcDO1i1xA&utm_campaign=designshare&utm_medium=link2&utm_source=sharebutton"
      ],
      "metadata": {
        "id": "QPK40N_XRHux"
      }
    },
    {
      "cell_type": "markdown",
      "source": [
        "# **IMPORTING LIBRARIES**\n"
      ],
      "metadata": {
        "id": "zGBfiQcPBkcl"
      }
    },
    {
      "cell_type": "code",
      "execution_count": null,
      "metadata": {
        "id": "Gfb89ZgfOotF"
      },
      "outputs": [],
      "source": [
        "import torch\n",
        "import torchvision\n",
        "import numpy as np\n",
        "import pandas as pd\n",
        "import tensorflow as tf \n",
        "import matplotlib.pyplot as plt\n",
        "import seaborn as sns\n",
        "import statsmodels.formula.api as smf\n",
        "sns.set(color_codes=True)\n",
        "from sklearn.linear_model import LinearRegression\n",
        "from sklearn import metrics\n",
        "from sklearn.model_selection import train_test_split\n",
        "from sklearn.metrics import accuracy_score\n",
        "import re,string\n",
        "%matplotlib inline\n",
        "from sklearn import model_selection, svm"
      ]
    },
    {
      "cell_type": "code",
      "source": [
        "import nltk\n",
        "nltk.download('punkt')\n",
        "nltk.download('stopwords')\n",
        "nltk.download('wordnet')\n",
        "nltk.download('omw-1.4')\n",
        "from nltk.tokenize import word_tokenize\n",
        "from nltk.tokenize import sent_tokenize\n",
        "from nltk.stem import WordNetLemmatizer \n",
        "from nltk.corpus import stopwords\n",
        "stopwords.words('english')\n",
        "import string\n",
        "string.punctuation\n",
        "from nltk.stem.porter import PorterStemmer\n",
        "\n",
        "from tensorflow.keras.preprocessing.text import Tokenizer\n",
        "from tensorflow.keras.preprocessing.sequence import pad_sequences\n",
        "from tensorflow.keras.callbacks import Callback, ReduceLROnPlateau, EarlyStopping"
      ],
      "metadata": {
        "colab": {
          "base_uri": "https://localhost:8080/"
        },
        "id": "RQLd_5D_KElu",
        "outputId": "4509ab73-a85b-4407-e9e7-41663a7df655"
      },
      "execution_count": null,
      "outputs": [
        {
          "output_type": "stream",
          "name": "stderr",
          "text": [
            "[nltk_data] Downloading package punkt to /root/nltk_data...\n",
            "[nltk_data]   Unzipping tokenizers/punkt.zip.\n",
            "[nltk_data] Downloading package stopwords to /root/nltk_data...\n",
            "[nltk_data]   Unzipping corpora/stopwords.zip.\n",
            "[nltk_data] Downloading package wordnet to /root/nltk_data...\n",
            "[nltk_data] Downloading package omw-1.4 to /root/nltk_data...\n"
          ]
        }
      ]
    },
    {
      "cell_type": "code",
      "source": [
        "import nltk\n",
        "from nltk.tokenize import word_tokenize\n",
        "from nltk.tokenize import sent_tokenize\n",
        "from nltk.stem import WordNetLemmatizer \n",
        "from nltk.corpus import stopwords\n",
        "from nltk.stem.porter import PorterStemmer\n",
        "nltk.download('stopwords')"
      ],
      "metadata": {
        "colab": {
          "base_uri": "https://localhost:8080/"
        },
        "id": "nvKsCljOxvwh",
        "outputId": "1c692c36-02a1-42c0-dca8-e647c8ae64c4"
      },
      "execution_count": null,
      "outputs": [
        {
          "output_type": "stream",
          "name": "stderr",
          "text": [
            "[nltk_data] Downloading package stopwords to /root/nltk_data...\n",
            "[nltk_data]   Package stopwords is already up-to-date!\n"
          ]
        },
        {
          "output_type": "execute_result",
          "data": {
            "text/plain": [
              "True"
            ]
          },
          "metadata": {},
          "execution_count": 3
        }
      ]
    },
    {
      "cell_type": "code",
      "source": [
        "from sklearn.feature_extraction.text import CountVectorizer, TfidfVectorizer\n",
        "from sklearn.metrics.pairwise import cosine_similarity\n",
        "import spacy\n",
        "\n",
        "nlp = spacy.load(\"en_core_web_sm\")"
      ],
      "metadata": {
        "id": "zEl8kNHiBdR7",
        "colab": {
          "base_uri": "https://localhost:8080/"
        },
        "outputId": "872cd218-71e3-4e9f-fdf5-2a38f3771a7a"
      },
      "execution_count": null,
      "outputs": [
        {
          "output_type": "stream",
          "name": "stderr",
          "text": [
            "/usr/local/lib/python3.8/dist-packages/torch/cuda/__init__.py:497: UserWarning: Can't initialize NVML\n",
            "  warnings.warn(\"Can't initialize NVML\")\n"
          ]
        }
      ]
    },
    {
      "cell_type": "code",
      "source": [
        "data = pd.read_csv(\"/content/train.csv\",header = 0)\n",
        "data"
      ],
      "metadata": {
        "colab": {
          "base_uri": "https://localhost:8080/",
          "height": 658
        },
        "id": "gpyzL40kRLho",
        "outputId": "1831ee12-1456-4ab3-c328-cca8de09ad67"
      },
      "execution_count": null,
      "outputs": [
        {
          "output_type": "execute_result",
          "data": {
            "text/plain": [
              "                                                   TITLE  \\\n",
              "0            Reconstructing Subject-Specific Effect Maps   \n",
              "1                     Rotation Invariance Neural Network   \n",
              "2      Spherical polyharmonics and Poisson kernels fo...   \n",
              "3      A finite element approximation for the stochas...   \n",
              "4      Comparative study of Discrete Wavelet Transfor...   \n",
              "...                                                  ...   \n",
              "20963  Contemporary machine learning: a guide for pra...   \n",
              "20964  Uniform diamond coatings on WC-Co hard alloy c...   \n",
              "20965  Analysing Soccer Games with Clustering and Con...   \n",
              "20966  On the Efficient Simulation of the Left-Tail o...   \n",
              "20967   Why optional stopping is a problem for Bayesians   \n",
              "\n",
              "                                                ABSTRACT  Computer Science  \\\n",
              "0        Predictive models allow subject-specific inf...                 1   \n",
              "1        Rotation invariance and translation invarian...                 1   \n",
              "2        We introduce and develop the notion of spher...                 0   \n",
              "3        The stochastic Landau--Lifshitz--Gilbert (LL...                 0   \n",
              "4        Fourier-transform infra-red (FTIR) spectra o...                 1   \n",
              "...                                                  ...               ...   \n",
              "20963    Machine learning is finding increasingly bro...                 1   \n",
              "20964    Polycrystalline diamond coatings have been g...                 0   \n",
              "20965    We present a new approach for identifying si...                 1   \n",
              "20966    The sum of Log-normal variates is encountere...                 0   \n",
              "20967    Recently, optional stopping has been a subje...                 0   \n",
              "\n",
              "       Physics  Mathematics  Statistics  Quantitative Biology  \\\n",
              "0            0            0           0                     0   \n",
              "1            0            0           0                     0   \n",
              "2            0            1           0                     0   \n",
              "3            0            1           0                     0   \n",
              "4            0            0           1                     0   \n",
              "...        ...          ...         ...                   ...   \n",
              "20963        1            0           0                     0   \n",
              "20964        1            0           0                     0   \n",
              "20965        0            0           0                     0   \n",
              "20966        0            1           1                     0   \n",
              "20967        0            1           1                     0   \n",
              "\n",
              "       Quantitative Finance  \n",
              "0                         0  \n",
              "1                         0  \n",
              "2                         0  \n",
              "3                         0  \n",
              "4                         0  \n",
              "...                     ...  \n",
              "20963                     0  \n",
              "20964                     0  \n",
              "20965                     0  \n",
              "20966                     0  \n",
              "20967                     0  \n",
              "\n",
              "[20968 rows x 8 columns]"
            ],
            "text/html": [
              "\n",
              "  <div id=\"df-31adfcb7-2c34-48fd-a5d6-2935d79c7084\">\n",
              "    <div class=\"colab-df-container\">\n",
              "      <div>\n",
              "<style scoped>\n",
              "    .dataframe tbody tr th:only-of-type {\n",
              "        vertical-align: middle;\n",
              "    }\n",
              "\n",
              "    .dataframe tbody tr th {\n",
              "        vertical-align: top;\n",
              "    }\n",
              "\n",
              "    .dataframe thead th {\n",
              "        text-align: right;\n",
              "    }\n",
              "</style>\n",
              "<table border=\"1\" class=\"dataframe\">\n",
              "  <thead>\n",
              "    <tr style=\"text-align: right;\">\n",
              "      <th></th>\n",
              "      <th>TITLE</th>\n",
              "      <th>ABSTRACT</th>\n",
              "      <th>Computer Science</th>\n",
              "      <th>Physics</th>\n",
              "      <th>Mathematics</th>\n",
              "      <th>Statistics</th>\n",
              "      <th>Quantitative Biology</th>\n",
              "      <th>Quantitative Finance</th>\n",
              "    </tr>\n",
              "  </thead>\n",
              "  <tbody>\n",
              "    <tr>\n",
              "      <th>0</th>\n",
              "      <td>Reconstructing Subject-Specific Effect Maps</td>\n",
              "      <td>Predictive models allow subject-specific inf...</td>\n",
              "      <td>1</td>\n",
              "      <td>0</td>\n",
              "      <td>0</td>\n",
              "      <td>0</td>\n",
              "      <td>0</td>\n",
              "      <td>0</td>\n",
              "    </tr>\n",
              "    <tr>\n",
              "      <th>1</th>\n",
              "      <td>Rotation Invariance Neural Network</td>\n",
              "      <td>Rotation invariance and translation invarian...</td>\n",
              "      <td>1</td>\n",
              "      <td>0</td>\n",
              "      <td>0</td>\n",
              "      <td>0</td>\n",
              "      <td>0</td>\n",
              "      <td>0</td>\n",
              "    </tr>\n",
              "    <tr>\n",
              "      <th>2</th>\n",
              "      <td>Spherical polyharmonics and Poisson kernels fo...</td>\n",
              "      <td>We introduce and develop the notion of spher...</td>\n",
              "      <td>0</td>\n",
              "      <td>0</td>\n",
              "      <td>1</td>\n",
              "      <td>0</td>\n",
              "      <td>0</td>\n",
              "      <td>0</td>\n",
              "    </tr>\n",
              "    <tr>\n",
              "      <th>3</th>\n",
              "      <td>A finite element approximation for the stochas...</td>\n",
              "      <td>The stochastic Landau--Lifshitz--Gilbert (LL...</td>\n",
              "      <td>0</td>\n",
              "      <td>0</td>\n",
              "      <td>1</td>\n",
              "      <td>0</td>\n",
              "      <td>0</td>\n",
              "      <td>0</td>\n",
              "    </tr>\n",
              "    <tr>\n",
              "      <th>4</th>\n",
              "      <td>Comparative study of Discrete Wavelet Transfor...</td>\n",
              "      <td>Fourier-transform infra-red (FTIR) spectra o...</td>\n",
              "      <td>1</td>\n",
              "      <td>0</td>\n",
              "      <td>0</td>\n",
              "      <td>1</td>\n",
              "      <td>0</td>\n",
              "      <td>0</td>\n",
              "    </tr>\n",
              "    <tr>\n",
              "      <th>...</th>\n",
              "      <td>...</td>\n",
              "      <td>...</td>\n",
              "      <td>...</td>\n",
              "      <td>...</td>\n",
              "      <td>...</td>\n",
              "      <td>...</td>\n",
              "      <td>...</td>\n",
              "      <td>...</td>\n",
              "    </tr>\n",
              "    <tr>\n",
              "      <th>20963</th>\n",
              "      <td>Contemporary machine learning: a guide for pra...</td>\n",
              "      <td>Machine learning is finding increasingly bro...</td>\n",
              "      <td>1</td>\n",
              "      <td>1</td>\n",
              "      <td>0</td>\n",
              "      <td>0</td>\n",
              "      <td>0</td>\n",
              "      <td>0</td>\n",
              "    </tr>\n",
              "    <tr>\n",
              "      <th>20964</th>\n",
              "      <td>Uniform diamond coatings on WC-Co hard alloy c...</td>\n",
              "      <td>Polycrystalline diamond coatings have been g...</td>\n",
              "      <td>0</td>\n",
              "      <td>1</td>\n",
              "      <td>0</td>\n",
              "      <td>0</td>\n",
              "      <td>0</td>\n",
              "      <td>0</td>\n",
              "    </tr>\n",
              "    <tr>\n",
              "      <th>20965</th>\n",
              "      <td>Analysing Soccer Games with Clustering and Con...</td>\n",
              "      <td>We present a new approach for identifying si...</td>\n",
              "      <td>1</td>\n",
              "      <td>0</td>\n",
              "      <td>0</td>\n",
              "      <td>0</td>\n",
              "      <td>0</td>\n",
              "      <td>0</td>\n",
              "    </tr>\n",
              "    <tr>\n",
              "      <th>20966</th>\n",
              "      <td>On the Efficient Simulation of the Left-Tail o...</td>\n",
              "      <td>The sum of Log-normal variates is encountere...</td>\n",
              "      <td>0</td>\n",
              "      <td>0</td>\n",
              "      <td>1</td>\n",
              "      <td>1</td>\n",
              "      <td>0</td>\n",
              "      <td>0</td>\n",
              "    </tr>\n",
              "    <tr>\n",
              "      <th>20967</th>\n",
              "      <td>Why optional stopping is a problem for Bayesians</td>\n",
              "      <td>Recently, optional stopping has been a subje...</td>\n",
              "      <td>0</td>\n",
              "      <td>0</td>\n",
              "      <td>1</td>\n",
              "      <td>1</td>\n",
              "      <td>0</td>\n",
              "      <td>0</td>\n",
              "    </tr>\n",
              "  </tbody>\n",
              "</table>\n",
              "<p>20968 rows × 8 columns</p>\n",
              "</div>\n",
              "      <button class=\"colab-df-convert\" onclick=\"convertToInteractive('df-31adfcb7-2c34-48fd-a5d6-2935d79c7084')\"\n",
              "              title=\"Convert this dataframe to an interactive table.\"\n",
              "              style=\"display:none;\">\n",
              "        \n",
              "  <svg xmlns=\"http://www.w3.org/2000/svg\" height=\"24px\"viewBox=\"0 0 24 24\"\n",
              "       width=\"24px\">\n",
              "    <path d=\"M0 0h24v24H0V0z\" fill=\"none\"/>\n",
              "    <path d=\"M18.56 5.44l.94 2.06.94-2.06 2.06-.94-2.06-.94-.94-2.06-.94 2.06-2.06.94zm-11 1L8.5 8.5l.94-2.06 2.06-.94-2.06-.94L8.5 2.5l-.94 2.06-2.06.94zm10 10l.94 2.06.94-2.06 2.06-.94-2.06-.94-.94-2.06-.94 2.06-2.06.94z\"/><path d=\"M17.41 7.96l-1.37-1.37c-.4-.4-.92-.59-1.43-.59-.52 0-1.04.2-1.43.59L10.3 9.45l-7.72 7.72c-.78.78-.78 2.05 0 2.83L4 21.41c.39.39.9.59 1.41.59.51 0 1.02-.2 1.41-.59l7.78-7.78 2.81-2.81c.8-.78.8-2.07 0-2.86zM5.41 20L4 18.59l7.72-7.72 1.47 1.35L5.41 20z\"/>\n",
              "  </svg>\n",
              "      </button>\n",
              "      \n",
              "  <style>\n",
              "    .colab-df-container {\n",
              "      display:flex;\n",
              "      flex-wrap:wrap;\n",
              "      gap: 12px;\n",
              "    }\n",
              "\n",
              "    .colab-df-convert {\n",
              "      background-color: #E8F0FE;\n",
              "      border: none;\n",
              "      border-radius: 50%;\n",
              "      cursor: pointer;\n",
              "      display: none;\n",
              "      fill: #1967D2;\n",
              "      height: 32px;\n",
              "      padding: 0 0 0 0;\n",
              "      width: 32px;\n",
              "    }\n",
              "\n",
              "    .colab-df-convert:hover {\n",
              "      background-color: #E2EBFA;\n",
              "      box-shadow: 0px 1px 2px rgba(60, 64, 67, 0.3), 0px 1px 3px 1px rgba(60, 64, 67, 0.15);\n",
              "      fill: #174EA6;\n",
              "    }\n",
              "\n",
              "    [theme=dark] .colab-df-convert {\n",
              "      background-color: #3B4455;\n",
              "      fill: #D2E3FC;\n",
              "    }\n",
              "\n",
              "    [theme=dark] .colab-df-convert:hover {\n",
              "      background-color: #434B5C;\n",
              "      box-shadow: 0px 1px 3px 1px rgba(0, 0, 0, 0.15);\n",
              "      filter: drop-shadow(0px 1px 2px rgba(0, 0, 0, 0.3));\n",
              "      fill: #FFFFFF;\n",
              "    }\n",
              "  </style>\n",
              "\n",
              "      <script>\n",
              "        const buttonEl =\n",
              "          document.querySelector('#df-31adfcb7-2c34-48fd-a5d6-2935d79c7084 button.colab-df-convert');\n",
              "        buttonEl.style.display =\n",
              "          google.colab.kernel.accessAllowed ? 'block' : 'none';\n",
              "\n",
              "        async function convertToInteractive(key) {\n",
              "          const element = document.querySelector('#df-31adfcb7-2c34-48fd-a5d6-2935d79c7084');\n",
              "          const dataTable =\n",
              "            await google.colab.kernel.invokeFunction('convertToInteractive',\n",
              "                                                     [key], {});\n",
              "          if (!dataTable) return;\n",
              "\n",
              "          const docLinkHtml = 'Like what you see? Visit the ' +\n",
              "            '<a target=\"_blank\" href=https://colab.research.google.com/notebooks/data_table.ipynb>data table notebook</a>'\n",
              "            + ' to learn more about interactive tables.';\n",
              "          element.innerHTML = '';\n",
              "          dataTable['output_type'] = 'display_data';\n",
              "          await google.colab.output.renderOutput(dataTable, element);\n",
              "          const docLink = document.createElement('div');\n",
              "          docLink.innerHTML = docLinkHtml;\n",
              "          element.appendChild(docLink);\n",
              "        }\n",
              "      </script>\n",
              "    </div>\n",
              "  </div>\n",
              "  "
            ]
          },
          "metadata": {},
          "execution_count": 5
        }
      ]
    },
    {
      "cell_type": "code",
      "source": [
        "data.isna().sum()"
      ],
      "metadata": {
        "colab": {
          "base_uri": "https://localhost:8080/"
        },
        "id": "QtEKGuoFSB7r",
        "outputId": "2bef9f96-f194-4ae7-cdbc-8ac36d013126"
      },
      "execution_count": null,
      "outputs": [
        {
          "output_type": "execute_result",
          "data": {
            "text/plain": [
              "TITLE                   0\n",
              "ABSTRACT                0\n",
              "Computer Science        0\n",
              "Physics                 0\n",
              "Mathematics             0\n",
              "Statistics              0\n",
              "Quantitative Biology    0\n",
              "Quantitative Finance    0\n",
              "dtype: int64"
            ]
          },
          "metadata": {},
          "execution_count": 6
        }
      ]
    },
    {
      "cell_type": "code",
      "source": [
        "for i in range(data.shape[1]):\n",
        "  print(data.iloc[:,i].unique())"
      ],
      "metadata": {
        "colab": {
          "base_uri": "https://localhost:8080/"
        },
        "id": "Oxe-DmfyS1JE",
        "outputId": "924ca8d0-e445-480e-9d59-97102af7b2a2"
      },
      "execution_count": null,
      "outputs": [
        {
          "output_type": "stream",
          "name": "stdout",
          "text": [
            "['Reconstructing Subject-Specific Effect Maps'\n",
            " 'Rotation Invariance Neural Network'\n",
            " 'Spherical polyharmonics and Poisson kernels for polyharmonic functions'\n",
            " ... 'Analysing Soccer Games with Clustering and Conceptors'\n",
            " 'On the Efficient Simulation of the Left-Tail of the Sum of Correlated Log-normal Variates'\n",
            " 'Why optional stopping is a problem for Bayesians']\n",
            "[\"  Predictive models allow subject-specific inference when analyzing disease\\nrelated alterations in neuroimaging data. Given a subject's data, inference can\\nbe made at two levels: global, i.e. identifiying condition presence for the\\nsubject, and local, i.e. detecting condition effect on each individual\\nmeasurement extracted from the subject's data. While global inference is widely\\nused, local inference, which can be used to form subject-specific effect maps,\\nis rarely used because existing models often yield noisy detections composed of\\ndispersed isolated islands. In this article, we propose a reconstruction\\nmethod, named RSM, to improve subject-specific detections of predictive\\nmodeling approaches and in particular, binary classifiers. RSM specifically\\naims to reduce noise due to sampling error associated with using a finite\\nsample of examples to train classifiers. The proposed method is a wrapper-type\\nalgorithm that can be used with different binary classifiers in a diagnostic\\nmanner, i.e. without information on condition presence. Reconstruction is posed\\nas a Maximum-A-Posteriori problem with a prior model whose parameters are\\nestimated from training data in a classifier-specific fashion. Experimental\\nevaluation is performed on synthetically generated data and data from the\\nAlzheimer's Disease Neuroimaging Initiative (ADNI) database. Results on\\nsynthetic data demonstrate that using RSM yields higher detection accuracy\\ncompared to using models directly or with bootstrap averaging. Analyses on the\\nADNI dataset show that RSM can also improve correlation between\\nsubject-specific detections in cortical thickness data and non-imaging markers\\nof Alzheimer's Disease (AD), such as the Mini Mental State Examination Score\\nand Cerebrospinal Fluid amyloid-$\\\\beta$ levels. Further reliability studies on\\nthe longitudinal ADNI dataset show improvement on detection reliability when\\nRSM is used.\\n\"\n",
            " '  Rotation invariance and translation invariance have great values in image\\nrecognition tasks. In this paper, we bring a new architecture in convolutional\\nneural network (CNN) named cyclic convolutional layer to achieve rotation\\ninvariance in 2-D symbol recognition. We can also get the position and\\norientation of the 2-D symbol by the network to achieve detection purpose for\\nmultiple non-overlap target. Last but not least, this architecture can achieve\\none-shot learning in some cases using those invariance.\\n'\n",
            " '  We introduce and develop the notion of spherical polyharmonics, which are a\\nnatural generalisation of spherical harmonics. In particular we study the\\ntheory of zonal polyharmonics, which allows us, analogously to zonal harmonics,\\nto construct Poisson kernels for polyharmonic functions on the union of rotated\\nballs. We find the representation of Poisson kernels and zonal polyharmonics in\\nterms of the Gegenbauer polynomials. We show the connection between the\\nclassical Poisson kernel for harmonic functions on the ball, Poisson kernels\\nfor polyharmonic functions on the union of rotated balls, and the Cauchy-Hua\\nkernel for holomorphic functions on the Lie ball.\\n'\n",
            " ...\n",
            " '  We present a new approach for identifying situations and behaviours, which we\\ncall \"moves\", from soccer games in the 2D simulation league. Being able to\\nidentify key situations and behaviours are useful capabilities for analysing\\nsoccer matches, anticipating opponent behaviours to aid selection of\\nappropriate tactics, and also as a prerequisite for automatic learning of\\nbehaviours and policies. To support a wide set of strategies, our goal is to\\nidentify situations from data, in an unsupervised way without making use of\\npre-defined soccer specific concepts such as \"pass\" or \"dribble\". The recurrent\\nneural networks we use in our approach act as a high-dimensional projection of\\nthe recent history of a situation on the field. Similar situations, i.e., with\\nsimilar histories, are found by clustering of network states. The same networks\\nare also used to learn so-called conceptors, that are lower-dimensional\\nmanifolds that describe trajectories through a high-dimensional state space\\nthat enable situation-specific predictions from the same neural network. With\\nthe proposed approach, we can segment games into sequences of situations that\\nare learnt in an unsupervised way, and learn conceptors that are useful for the\\nprediction of the near future of the respective situation.\\n'\n",
            " '  The sum of Log-normal variates is encountered in many challenging\\napplications such as in performance analysis of wireless communication systems\\nand in financial engineering. Several approximation methods have been developed\\nin the literature, the accuracy of which is not ensured in the tail regions.\\nThese regions are of primordial interest wherein small probability values have\\nto be evaluated with high precision. Variance reduction techniques are known to\\nyield accurate, yet efficient, estimates of small probability values. Most of\\nthe existing approaches, however, have considered the problem of estimating the\\nright-tail of the sum of Log-normal random variables (RVS). In the present\\nwork, we consider instead the estimation of the left-tail of the sum of\\ncorrelated Log-normal variates with Gaussian copula under a mild assumption on\\nthe covariance matrix. We propose an estimator combining an existing\\nmean-shifting importance sampling approach with a control variate technique.\\nThe main result is that the proposed estimator has an asymptotically vanishing\\nrelative error which represents a major finding in the context of the left-tail\\nsimulation of the sum of Log-normal RVs. Finally, we assess by various\\nsimulation results the performances of the proposed estimator compared to\\nexisting estimators.\\n'\n",
            " \"  Recently, optional stopping has been a subject of debate in the Bayesian\\npsychology community. Rouder (2014) argues that optional stopping is no problem\\nfor Bayesians, and even recommends the use of optional stopping in practice, as\\ndo Wagenmakers et al. (2012). This article addresses the question whether\\noptional stopping is problematic for Bayesian methods, and specifies under\\nwhich circumstances and in which sense it is and is not. By slightly varying\\nand extending Rouder's (2014) experiment, we illustrate that, as soon as the\\nparameters of interest are equipped with default or pragmatic priors - which\\nmeans, in most practical applications of Bayes Factor hypothesis testing -\\nresilience to optional stopping can break down. We distinguish between four\\ntypes of default priors, each having their own specific issues with optional\\nstopping, ranging from no-problem-at-all (Type 0 priors) to quite severe (Type\\nII and III priors).\\n\"]\n",
            "[1 0]\n",
            "[0 1]\n",
            "[0 1]\n",
            "[0 1]\n",
            "[0 1]\n",
            "[0 1]\n"
          ]
        }
      ]
    },
    {
      "cell_type": "code",
      "source": [
        "for i in range(data.shape[1]):\n",
        "  print(data.iloc[:,i].value_counts())"
      ],
      "metadata": {
        "colab": {
          "base_uri": "https://localhost:8080/"
        },
        "id": "qKkL7JNCS4Fd",
        "outputId": "103a4090-1e2f-43ea-9f1c-67d4537a9f7b"
      },
      "execution_count": null,
      "outputs": [
        {
          "output_type": "stream",
          "name": "stdout",
          "text": [
            "Reconstructing Subject-Specific Effect Maps                                                                                           1\n",
            "Can Deep Clinical Models Handle Real-World Domain Shifts?                                                                             1\n",
            "Memory Efficient Experience Replay for Streaming Learning                                                                             1\n",
            "Aspiration dynamics generate robust predictions in structured populations                                                             1\n",
            "OAuthGuard: Protecting User Security and Privacy with OAuth 2.0 and OpenID Connect                                                    1\n",
            "                                                                                                                                     ..\n",
            "The exit time finite state projection scheme: bounding exit distributions and occupation measures of continuous-time Markov chains    1\n",
            "The problem of boundary conditions for the shallow water equations (Russian)                                                          1\n",
            "A Deterministic Nonsmooth Frank Wolfe Algorithm with Coreset Guarantees                                                               1\n",
            "A Survey of Active Attacks on Wireless Sensor Networks and their Countermeasures                                                      1\n",
            "Why optional stopping is a problem for Bayesians                                                                                      1\n",
            "Name: TITLE, Length: 20968, dtype: int64\n",
            "  Predictive models allow subject-specific inference when analyzing disease\\nrelated alterations in neuroimaging data. Given a subject's data, inference can\\nbe made at two levels: global, i.e. identifiying condition presence for the\\nsubject, and local, i.e. detecting condition effect on each individual\\nmeasurement extracted from the subject's data. While global inference is widely\\nused, local inference, which can be used to form subject-specific effect maps,\\nis rarely used because existing models often yield noisy detections composed of\\ndispersed isolated islands. In this article, we propose a reconstruction\\nmethod, named RSM, to improve subject-specific detections of predictive\\nmodeling approaches and in particular, binary classifiers. RSM specifically\\naims to reduce noise due to sampling error associated with using a finite\\nsample of examples to train classifiers. The proposed method is a wrapper-type\\nalgorithm that can be used with different binary classifiers in a diagnostic\\nmanner, i.e. without information on condition presence. Reconstruction is posed\\nas a Maximum-A-Posteriori problem with a prior model whose parameters are\\nestimated from training data in a classifier-specific fashion. Experimental\\nevaluation is performed on synthetically generated data and data from the\\nAlzheimer's Disease Neuroimaging Initiative (ADNI) database. Results on\\nsynthetic data demonstrate that using RSM yields higher detection accuracy\\ncompared to using models directly or with bootstrap averaging. Analyses on the\\nADNI dataset show that RSM can also improve correlation between\\nsubject-specific detections in cortical thickness data and non-imaging markers\\nof Alzheimer's Disease (AD), such as the Mini Mental State Examination Score\\nand Cerebrospinal Fluid amyloid-$\\beta$ levels. Further reliability studies on\\nthe longitudinal ADNI dataset show improvement on detection reliability when\\nRSM is used.\\n    1\n",
            "  The hypothesis that computational models can be reliable enough to be adopted\\nin prognosis and patient care is revolutionizing healthcare. Deep learning, in\\nparticular, has been a game changer in building predictive models, thereby\\nleading to community-wide data curation efforts. However, due to the inherent\\nvariabilities in population characteristics and biological systems, these\\nmodels are often biased to the training datasets. This can be limiting when\\nmodels are deployed in new environments, particularly when there are systematic\\ndomain shifts not known a priori. In this paper, we formalize these challenges\\nby emulating a large class of domain shifts that can occur in clinical\\nsettings, and argue that evaluating the behavior of predictive models in light\\nof those shifts is an effective way of quantifying the reliability of clinical\\nmodels. More specifically, we develop an approach for building challenging\\nscenarios, based on analysis of \\textit{disease landscapes}, and utilize\\nunsupervised domain adaptation to compensate for the domain shifts. Using the\\nopenly available MIMIC-III EHR dataset for phenotyping, we generate a large\\nclass of scenarios and evaluate the ability of deep clinical models in those\\ncases. For the first time, our work sheds light into data regimes where deep\\nclinical models can fail to generalize, due to significant changes in the\\ndisease landscapes between the source and target landscapes. This study\\nemphasizes the need for sophisticated evaluation mechanisms driven by\\nreal-world domain shifts to build effective AI solutions for healthcare.\\n                                                                                                                                                                                                                                                                                                                                      1\n",
            "  In supervised machine learning, an agent is typically trained once and then\\ndeployed. While this works well for static settings, robots often operate in\\nchanging environments and must quickly learn new things from data streams. In\\nthis paradigm, known as streaming learning, a learner is trained online, in a\\nsingle pass, from a data stream that cannot be assumed to be independent and\\nidentically distributed (iid). Streaming learning will cause conventional deep\\nneural networks (DNNs) to fail for two reasons: 1) they need multiple passes\\nthrough the entire dataset; and 2) non-iid data will cause catastrophic\\nforgetting. An old fix to both of these issues is rehearsal. To learn a new\\nexample, rehearsal mixes it with previous examples, and then this mixture is\\nused to update the DNN. Full rehearsal is slow and memory intensive because it\\nstores all previously observed examples, and its effectiveness for preventing\\ncatastrophic forgetting has not been studied in modern DNNs. Here, we describe\\nthe ExStream algorithm for memory efficient rehearsal and compare it to\\nalternatives. We find that full rehearsal can eliminate catastrophic forgetting\\nin a variety of streaming learning settings, with ExStream performing well\\nusing far less memory and computation.\\n                                                                                                                                                                                                                                                                                                                                                                                                                                                                                                                                                                                                                                                                              1\n",
            "  Evolutionary game dynamics in structured populations are strongly affected by\\nupdating rules. Previous studies usually focus on imitation-based rules, which\\nrely on payoff information of social peers. Recent behavioral experiments\\nsuggest that whether individuals use such social information for strategy\\nupdating may be crucial to the outcomes of social interactions. This hints at\\nthe importance of considering updating rules without dependence on social\\npeers' payoff information, which, however, is rarely investigated. Here, we\\nstudy aspiration-based self-evaluation rules, with which individuals\\nself-assess the performance of strategies by comparing own payoffs with an\\nimaginary value they aspire, called the aspiration level. We explore the fate\\nof strategies on population structures represented by graphs or networks. Under\\nweak selection, we analytically derive the condition for strategy dominance,\\nwhich is found to coincide with the classical condition of risk-dominance. This\\ncondition holds for all networks and all distributions of aspiration levels,\\nand for individualized ways of self-evaluation. Our condition can be\\nintuitively interpreted: one strategy prevails over the other if the strategy\\nbrings more satisfaction to individuals than the other does. Our work thus\\nsheds light on the intrinsic difference between evolutionary dynamics induced\\nby aspiration-based and imitation-based rules.\\n                                                                                                                                                                                                                                                                                                                                                                                                                                                                                                                         1\n",
            "  Millions of users routinely use Google to log in to websites supporting OAuth\\n2.0 or OpenID Connect; the security of OAuth 2.0 and OpenID Connect is\\ntherefore of critical importance. As revealed in previous studies, in practice\\nRPs often implement OAuth 2.0 incorrectly, and so many real-world OAuth 2.0 and\\nOpenID Connect systems are vulnerable to attack. However, users of such flawed\\nsystems are typically unaware of these issues, and so are at risk of attacks\\nwhich could result in unauthorised access to the victim user's account at an\\nRP. In order to address this threat, we have developed OAuthGuard, an OAuth 2.0\\nand OpenID Connect vulnerability scanner and protector, that works with RPs\\nusing Google OAuth 2.0 and OpenID Connect services. It protects user security\\nand privacy even when RPs do not implement OAuth 2.0 or OpenID Connect\\ncorrectly. We used OAuthGuard to survey the 1000 top-ranked websites supporting\\nGoogle sign-in for the possible presence of five OAuth 2.0 or OpenID Connect\\nsecurity and privacy vulnerabilities, of which one has not previously been\\ndescribed in the literature. Of the 137 sites in our study that employ Google\\nSign-in, 69 were found to suffer from at least one serious vulnerability.\\nOAuthGuard was able to protect user security and privacy for 56 of these 69\\nRPs, and for the other 13 was able to warn users that they were using an\\ninsecure implementation.\\n                                                                                                                                                                                                                                                                                                                                                                                                                                                                                                                                     1\n",
            "                                                                                                                                                                                                                                                                                                                                                                                                                                                                                                                                                                                                                                                                                                                                                                                                                                                                                                                                                                                                                                                                                                                                                                                                                                                                                                                                                                                                                                                                                                                                                                                                                                                                                                                                                                                                                                                                                                                                                                                                                     ..\n",
            "  We introduce the exit time finite state projection (ETFSP) scheme, a\\ntruncation-based method that yields approximations to the exit distribution and\\noccupation measure associated with the time of exit from a domain (i.e., the\\ntime of first passage to the complement of the domain) of time-homogeneous\\ncontinuous-time Markov chains. We prove that: (i) the computed approximations\\nbound the measures from below; (ii) the total variation distances between the\\napproximations and the measures decrease monotonically as states are added to\\nthe truncation; and (iii) the scheme converges, in the sense that, as the\\ntruncation tends to the entire state space, the total variation distances tend\\nto zero. Furthermore, we give a computable bound on the total variation\\ndistance between the exit distribution and its approximation, and we delineate\\nthe cases in which the bound is sharp. We also revisit the related finite state\\nprojection scheme and give a comprehensive account of its theoretical\\nproperties. We demonstrate the use of the ETFSP scheme by applying it to two\\nbiological examples: the computation of the first passage time associated with\\nthe expression of a gene, and the fixation times of competing species subject\\nto demographic noise.\\n                                                                                                                                                                                                                                                                                                                                                                                                                                                                                                                                                                                                                                                                                                      1\n",
            "  The problem of choice of boundary conditions are discussed for the case of\\nnumerical integration of the shallow water equations on a substantially\\nirregular relief. In modeling of unsteady surface water flows has a dynamic\\nboundary partitioning liquid and dry bottom. The situation is complicated by\\nthe emergence of sub- and supercritical flow regimes for the problems of\\nseasonal floodplain flooding, flash floods, tsunami landfalls. Analysis of the\\nuse of various methods of setting conditions for the physical quantities of\\nliquid when the settlement of the boundary shows the advantages of using the\\nwaterfall type conditions in the presence of strong inhomogeneities landforms.\\nWhen there is a waterfall on the border of the computational domain and\\nheterogeneity of the relief in the vicinity of the boundary portion may occur,\\nwhich is formed by the region of critical flow with the formation of a\\nhydraulic jump, which greatly weakens the effect of the waterfall on the flow\\npattern upstream.\\n                                                                                                                                                                                                                                                                                                                                                                                                                                                                                                                                                                                                                                                                                                                                                                                                                                                                                                                                                            1\n",
            "  We present a new Frank-Wolfe (FW) type algorithm that is applicable to\\nminimization problems with a nonsmooth convex objective. We provide convergence\\nbounds and show that the scheme yields so-called coreset results for various\\nMachine Learning problems including 1-median, Balanced Development, Sparse PCA,\\nGraph Cuts, and the $\\ell_1$-norm-regularized Support Vector Machine (SVM)\\namong others. This means that the algorithm provides approximate solutions to\\nthese problems in time complexity bounds that are not dependent on the size of\\nthe input problem. Our framework, motivated by a growing body of work on\\nsublinear algorithms for various data analysis problems, is entirely\\ndeterministic and makes no use of smoothing or proximal operators. Apart from\\nthese theoretical results, we show experimentally that the algorithm is very\\npractical and in some cases also offers significant computational advantages on\\nlarge problem instances. We provide an open source implementation that can be\\nadapted for other problems that fit the overall structure.\\n                                                                                                                                                                                                                                                                                                                                                                                                                                                                                                                                                                                                                                                                                                                                                                                                                                                                                                        1\n",
            "  Lately, Wireless Sensor Networks (WSNs) have become an emerging technology\\nand can be utilized in some crucial circumstances like battlegrounds,\\ncommercial applications, habitat observing, buildings, smart homes, traffic\\nsurveillance and other different places. One of the foremost difficulties that\\nWSN faces nowadays is protection from serious attacks. While organizing the\\nsensor nodes in an abandoned environment makes network systems helpless against\\nan assortment of strong assaults, intrinsic memory and power restrictions of\\nsensor nodes make the traditional security arrangements impractical. The\\nsensing knowledge combined with the wireless communication and processing power\\nmakes it lucrative for being abused. The wireless sensor network technology\\nalso obtains a big variety of security intimidations. This paper describes four\\nbasic security threats and many active attacks on WSN with their possible\\ncountermeasures proposed by different research scholars.\\n                                                                                                                                                                                                                                                                                                                                                                                                                                                                                                                                                                                                                                                                                                                                                                                                                                                                                                                                                                                          1\n",
            "  Recently, optional stopping has been a subject of debate in the Bayesian\\npsychology community. Rouder (2014) argues that optional stopping is no problem\\nfor Bayesians, and even recommends the use of optional stopping in practice, as\\ndo Wagenmakers et al. (2012). This article addresses the question whether\\noptional stopping is problematic for Bayesian methods, and specifies under\\nwhich circumstances and in which sense it is and is not. By slightly varying\\nand extending Rouder's (2014) experiment, we illustrate that, as soon as the\\nparameters of interest are equipped with default or pragmatic priors - which\\nmeans, in most practical applications of Bayes Factor hypothesis testing -\\nresilience to optional stopping can break down. We distinguish between four\\ntypes of default priors, each having their own specific issues with optional\\nstopping, ranging from no-problem-at-all (Type 0 priors) to quite severe (Type\\nII and III priors).\\n                                                                                                                                                                                                                                                                                                                                                                                                                                                                                                                                                                                                                                                                                                                                                                                                                                                                                                                                                                                                                           1\n",
            "Name: ABSTRACT, Length: 20968, dtype: int64\n",
            "0    12374\n",
            "1     8594\n",
            "Name: Computer Science, dtype: int64\n",
            "0    14955\n",
            "1     6013\n",
            "Name: Physics, dtype: int64\n",
            "0    15350\n",
            "1     5618\n",
            "Name: Mathematics, dtype: int64\n",
            "0    15762\n",
            "1     5206\n",
            "Name: Statistics, dtype: int64\n",
            "0    20385\n",
            "1      583\n",
            "Name: Quantitative Biology, dtype: int64\n",
            "0    20723\n",
            "1      245\n",
            "Name: Quantitative Finance, dtype: int64\n"
          ]
        }
      ]
    },
    {
      "cell_type": "code",
      "source": [
        "data.shape"
      ],
      "metadata": {
        "colab": {
          "base_uri": "https://localhost:8080/"
        },
        "id": "5rldgaM6S7j3",
        "outputId": "3b9b8661-f530-493b-e485-15e8b1937414"
      },
      "execution_count": null,
      "outputs": [
        {
          "output_type": "execute_result",
          "data": {
            "text/plain": [
              "(20968, 8)"
            ]
          },
          "metadata": {},
          "execution_count": 9
        }
      ]
    },
    {
      "cell_type": "code",
      "source": [
        "data[\"Article\"] = data[[\"TITLE\", \"ABSTRACT\"]].apply(\"-\".join, axis=1)\n",
        "data"
      ],
      "metadata": {
        "colab": {
          "base_uri": "https://localhost:8080/",
          "height": 832
        },
        "id": "ggji0znVg57d",
        "outputId": "71b30d40-c3c4-4478-abe4-3d9c00abf2a7"
      },
      "execution_count": null,
      "outputs": [
        {
          "output_type": "execute_result",
          "data": {
            "text/plain": [
              "                                                   TITLE  \\\n",
              "0            Reconstructing Subject-Specific Effect Maps   \n",
              "1                     Rotation Invariance Neural Network   \n",
              "2      Spherical polyharmonics and Poisson kernels fo...   \n",
              "3      A finite element approximation for the stochas...   \n",
              "4      Comparative study of Discrete Wavelet Transfor...   \n",
              "...                                                  ...   \n",
              "20963  Contemporary machine learning: a guide for pra...   \n",
              "20964  Uniform diamond coatings on WC-Co hard alloy c...   \n",
              "20965  Analysing Soccer Games with Clustering and Con...   \n",
              "20966  On the Efficient Simulation of the Left-Tail o...   \n",
              "20967   Why optional stopping is a problem for Bayesians   \n",
              "\n",
              "                                                ABSTRACT  Computer Science  \\\n",
              "0        Predictive models allow subject-specific inf...                 1   \n",
              "1        Rotation invariance and translation invarian...                 1   \n",
              "2        We introduce and develop the notion of spher...                 0   \n",
              "3        The stochastic Landau--Lifshitz--Gilbert (LL...                 0   \n",
              "4        Fourier-transform infra-red (FTIR) spectra o...                 1   \n",
              "...                                                  ...               ...   \n",
              "20963    Machine learning is finding increasingly bro...                 1   \n",
              "20964    Polycrystalline diamond coatings have been g...                 0   \n",
              "20965    We present a new approach for identifying si...                 1   \n",
              "20966    The sum of Log-normal variates is encountere...                 0   \n",
              "20967    Recently, optional stopping has been a subje...                 0   \n",
              "\n",
              "       Physics  Mathematics  Statistics  Quantitative Biology  \\\n",
              "0            0            0           0                     0   \n",
              "1            0            0           0                     0   \n",
              "2            0            1           0                     0   \n",
              "3            0            1           0                     0   \n",
              "4            0            0           1                     0   \n",
              "...        ...          ...         ...                   ...   \n",
              "20963        1            0           0                     0   \n",
              "20964        1            0           0                     0   \n",
              "20965        0            0           0                     0   \n",
              "20966        0            1           1                     0   \n",
              "20967        0            1           1                     0   \n",
              "\n",
              "       Quantitative Finance                                            Article  \n",
              "0                         0  Reconstructing Subject-Specific Effect Maps-  ...  \n",
              "1                         0  Rotation Invariance Neural Network-  Rotation ...  \n",
              "2                         0  Spherical polyharmonics and Poisson kernels fo...  \n",
              "3                         0  A finite element approximation for the stochas...  \n",
              "4                         0  Comparative study of Discrete Wavelet Transfor...  \n",
              "...                     ...                                                ...  \n",
              "20963                     0  Contemporary machine learning: a guide for pra...  \n",
              "20964                     0  Uniform diamond coatings on WC-Co hard alloy c...  \n",
              "20965                     0  Analysing Soccer Games with Clustering and Con...  \n",
              "20966                     0  On the Efficient Simulation of the Left-Tail o...  \n",
              "20967                     0  Why optional stopping is a problem for Bayesia...  \n",
              "\n",
              "[20968 rows x 9 columns]"
            ],
            "text/html": [
              "\n",
              "  <div id=\"df-3d11634e-7b80-4fb8-a12f-1b4fa3f7ad9a\">\n",
              "    <div class=\"colab-df-container\">\n",
              "      <div>\n",
              "<style scoped>\n",
              "    .dataframe tbody tr th:only-of-type {\n",
              "        vertical-align: middle;\n",
              "    }\n",
              "\n",
              "    .dataframe tbody tr th {\n",
              "        vertical-align: top;\n",
              "    }\n",
              "\n",
              "    .dataframe thead th {\n",
              "        text-align: right;\n",
              "    }\n",
              "</style>\n",
              "<table border=\"1\" class=\"dataframe\">\n",
              "  <thead>\n",
              "    <tr style=\"text-align: right;\">\n",
              "      <th></th>\n",
              "      <th>TITLE</th>\n",
              "      <th>ABSTRACT</th>\n",
              "      <th>Computer Science</th>\n",
              "      <th>Physics</th>\n",
              "      <th>Mathematics</th>\n",
              "      <th>Statistics</th>\n",
              "      <th>Quantitative Biology</th>\n",
              "      <th>Quantitative Finance</th>\n",
              "      <th>Article</th>\n",
              "    </tr>\n",
              "  </thead>\n",
              "  <tbody>\n",
              "    <tr>\n",
              "      <th>0</th>\n",
              "      <td>Reconstructing Subject-Specific Effect Maps</td>\n",
              "      <td>Predictive models allow subject-specific inf...</td>\n",
              "      <td>1</td>\n",
              "      <td>0</td>\n",
              "      <td>0</td>\n",
              "      <td>0</td>\n",
              "      <td>0</td>\n",
              "      <td>0</td>\n",
              "      <td>Reconstructing Subject-Specific Effect Maps-  ...</td>\n",
              "    </tr>\n",
              "    <tr>\n",
              "      <th>1</th>\n",
              "      <td>Rotation Invariance Neural Network</td>\n",
              "      <td>Rotation invariance and translation invarian...</td>\n",
              "      <td>1</td>\n",
              "      <td>0</td>\n",
              "      <td>0</td>\n",
              "      <td>0</td>\n",
              "      <td>0</td>\n",
              "      <td>0</td>\n",
              "      <td>Rotation Invariance Neural Network-  Rotation ...</td>\n",
              "    </tr>\n",
              "    <tr>\n",
              "      <th>2</th>\n",
              "      <td>Spherical polyharmonics and Poisson kernels fo...</td>\n",
              "      <td>We introduce and develop the notion of spher...</td>\n",
              "      <td>0</td>\n",
              "      <td>0</td>\n",
              "      <td>1</td>\n",
              "      <td>0</td>\n",
              "      <td>0</td>\n",
              "      <td>0</td>\n",
              "      <td>Spherical polyharmonics and Poisson kernels fo...</td>\n",
              "    </tr>\n",
              "    <tr>\n",
              "      <th>3</th>\n",
              "      <td>A finite element approximation for the stochas...</td>\n",
              "      <td>The stochastic Landau--Lifshitz--Gilbert (LL...</td>\n",
              "      <td>0</td>\n",
              "      <td>0</td>\n",
              "      <td>1</td>\n",
              "      <td>0</td>\n",
              "      <td>0</td>\n",
              "      <td>0</td>\n",
              "      <td>A finite element approximation for the stochas...</td>\n",
              "    </tr>\n",
              "    <tr>\n",
              "      <th>4</th>\n",
              "      <td>Comparative study of Discrete Wavelet Transfor...</td>\n",
              "      <td>Fourier-transform infra-red (FTIR) spectra o...</td>\n",
              "      <td>1</td>\n",
              "      <td>0</td>\n",
              "      <td>0</td>\n",
              "      <td>1</td>\n",
              "      <td>0</td>\n",
              "      <td>0</td>\n",
              "      <td>Comparative study of Discrete Wavelet Transfor...</td>\n",
              "    </tr>\n",
              "    <tr>\n",
              "      <th>...</th>\n",
              "      <td>...</td>\n",
              "      <td>...</td>\n",
              "      <td>...</td>\n",
              "      <td>...</td>\n",
              "      <td>...</td>\n",
              "      <td>...</td>\n",
              "      <td>...</td>\n",
              "      <td>...</td>\n",
              "      <td>...</td>\n",
              "    </tr>\n",
              "    <tr>\n",
              "      <th>20963</th>\n",
              "      <td>Contemporary machine learning: a guide for pra...</td>\n",
              "      <td>Machine learning is finding increasingly bro...</td>\n",
              "      <td>1</td>\n",
              "      <td>1</td>\n",
              "      <td>0</td>\n",
              "      <td>0</td>\n",
              "      <td>0</td>\n",
              "      <td>0</td>\n",
              "      <td>Contemporary machine learning: a guide for pra...</td>\n",
              "    </tr>\n",
              "    <tr>\n",
              "      <th>20964</th>\n",
              "      <td>Uniform diamond coatings on WC-Co hard alloy c...</td>\n",
              "      <td>Polycrystalline diamond coatings have been g...</td>\n",
              "      <td>0</td>\n",
              "      <td>1</td>\n",
              "      <td>0</td>\n",
              "      <td>0</td>\n",
              "      <td>0</td>\n",
              "      <td>0</td>\n",
              "      <td>Uniform diamond coatings on WC-Co hard alloy c...</td>\n",
              "    </tr>\n",
              "    <tr>\n",
              "      <th>20965</th>\n",
              "      <td>Analysing Soccer Games with Clustering and Con...</td>\n",
              "      <td>We present a new approach for identifying si...</td>\n",
              "      <td>1</td>\n",
              "      <td>0</td>\n",
              "      <td>0</td>\n",
              "      <td>0</td>\n",
              "      <td>0</td>\n",
              "      <td>0</td>\n",
              "      <td>Analysing Soccer Games with Clustering and Con...</td>\n",
              "    </tr>\n",
              "    <tr>\n",
              "      <th>20966</th>\n",
              "      <td>On the Efficient Simulation of the Left-Tail o...</td>\n",
              "      <td>The sum of Log-normal variates is encountere...</td>\n",
              "      <td>0</td>\n",
              "      <td>0</td>\n",
              "      <td>1</td>\n",
              "      <td>1</td>\n",
              "      <td>0</td>\n",
              "      <td>0</td>\n",
              "      <td>On the Efficient Simulation of the Left-Tail o...</td>\n",
              "    </tr>\n",
              "    <tr>\n",
              "      <th>20967</th>\n",
              "      <td>Why optional stopping is a problem for Bayesians</td>\n",
              "      <td>Recently, optional stopping has been a subje...</td>\n",
              "      <td>0</td>\n",
              "      <td>0</td>\n",
              "      <td>1</td>\n",
              "      <td>1</td>\n",
              "      <td>0</td>\n",
              "      <td>0</td>\n",
              "      <td>Why optional stopping is a problem for Bayesia...</td>\n",
              "    </tr>\n",
              "  </tbody>\n",
              "</table>\n",
              "<p>20968 rows × 9 columns</p>\n",
              "</div>\n",
              "      <button class=\"colab-df-convert\" onclick=\"convertToInteractive('df-3d11634e-7b80-4fb8-a12f-1b4fa3f7ad9a')\"\n",
              "              title=\"Convert this dataframe to an interactive table.\"\n",
              "              style=\"display:none;\">\n",
              "        \n",
              "  <svg xmlns=\"http://www.w3.org/2000/svg\" height=\"24px\"viewBox=\"0 0 24 24\"\n",
              "       width=\"24px\">\n",
              "    <path d=\"M0 0h24v24H0V0z\" fill=\"none\"/>\n",
              "    <path d=\"M18.56 5.44l.94 2.06.94-2.06 2.06-.94-2.06-.94-.94-2.06-.94 2.06-2.06.94zm-11 1L8.5 8.5l.94-2.06 2.06-.94-2.06-.94L8.5 2.5l-.94 2.06-2.06.94zm10 10l.94 2.06.94-2.06 2.06-.94-2.06-.94-.94-2.06-.94 2.06-2.06.94z\"/><path d=\"M17.41 7.96l-1.37-1.37c-.4-.4-.92-.59-1.43-.59-.52 0-1.04.2-1.43.59L10.3 9.45l-7.72 7.72c-.78.78-.78 2.05 0 2.83L4 21.41c.39.39.9.59 1.41.59.51 0 1.02-.2 1.41-.59l7.78-7.78 2.81-2.81c.8-.78.8-2.07 0-2.86zM5.41 20L4 18.59l7.72-7.72 1.47 1.35L5.41 20z\"/>\n",
              "  </svg>\n",
              "      </button>\n",
              "      \n",
              "  <style>\n",
              "    .colab-df-container {\n",
              "      display:flex;\n",
              "      flex-wrap:wrap;\n",
              "      gap: 12px;\n",
              "    }\n",
              "\n",
              "    .colab-df-convert {\n",
              "      background-color: #E8F0FE;\n",
              "      border: none;\n",
              "      border-radius: 50%;\n",
              "      cursor: pointer;\n",
              "      display: none;\n",
              "      fill: #1967D2;\n",
              "      height: 32px;\n",
              "      padding: 0 0 0 0;\n",
              "      width: 32px;\n",
              "    }\n",
              "\n",
              "    .colab-df-convert:hover {\n",
              "      background-color: #E2EBFA;\n",
              "      box-shadow: 0px 1px 2px rgba(60, 64, 67, 0.3), 0px 1px 3px 1px rgba(60, 64, 67, 0.15);\n",
              "      fill: #174EA6;\n",
              "    }\n",
              "\n",
              "    [theme=dark] .colab-df-convert {\n",
              "      background-color: #3B4455;\n",
              "      fill: #D2E3FC;\n",
              "    }\n",
              "\n",
              "    [theme=dark] .colab-df-convert:hover {\n",
              "      background-color: #434B5C;\n",
              "      box-shadow: 0px 1px 3px 1px rgba(0, 0, 0, 0.15);\n",
              "      filter: drop-shadow(0px 1px 2px rgba(0, 0, 0, 0.3));\n",
              "      fill: #FFFFFF;\n",
              "    }\n",
              "  </style>\n",
              "\n",
              "      <script>\n",
              "        const buttonEl =\n",
              "          document.querySelector('#df-3d11634e-7b80-4fb8-a12f-1b4fa3f7ad9a button.colab-df-convert');\n",
              "        buttonEl.style.display =\n",
              "          google.colab.kernel.accessAllowed ? 'block' : 'none';\n",
              "\n",
              "        async function convertToInteractive(key) {\n",
              "          const element = document.querySelector('#df-3d11634e-7b80-4fb8-a12f-1b4fa3f7ad9a');\n",
              "          const dataTable =\n",
              "            await google.colab.kernel.invokeFunction('convertToInteractive',\n",
              "                                                     [key], {});\n",
              "          if (!dataTable) return;\n",
              "\n",
              "          const docLinkHtml = 'Like what you see? Visit the ' +\n",
              "            '<a target=\"_blank\" href=https://colab.research.google.com/notebooks/data_table.ipynb>data table notebook</a>'\n",
              "            + ' to learn more about interactive tables.';\n",
              "          element.innerHTML = '';\n",
              "          dataTable['output_type'] = 'display_data';\n",
              "          await google.colab.output.renderOutput(dataTable, element);\n",
              "          const docLink = document.createElement('div');\n",
              "          docLink.innerHTML = docLinkHtml;\n",
              "          element.appendChild(docLink);\n",
              "        }\n",
              "      </script>\n",
              "    </div>\n",
              "  </div>\n",
              "  "
            ]
          },
          "metadata": {},
          "execution_count": 10
        }
      ]
    },
    {
      "cell_type": "code",
      "source": [
        "def clean_text1(text):\n",
        "    text=text.lower()\n",
        "    text=re.sub('\\[.*?\\]','',text)\n",
        "    text=re.sub('[%s]'%re.escape(string.punctuation),'',text)\n",
        "    text=re.sub('\\w*\\d\\w*','',text)\n",
        "    return text\n",
        "\n",
        "cleaned1=lambda x:clean_text1(x)"
      ],
      "metadata": {
        "id": "lATcyV2VCsVB"
      },
      "execution_count": null,
      "outputs": []
    },
    {
      "cell_type": "code",
      "source": [
        "data['Article']=pd.DataFrame(data.Article.apply(cleaned1))"
      ],
      "metadata": {
        "id": "FP5giQCbDCD2"
      },
      "execution_count": null,
      "outputs": []
    },
    {
      "cell_type": "code",
      "source": [
        "from nltk.tokenize.toktok import ToktokTokenizer\n",
        "\n",
        "#Tokenization of text\n",
        "tokenizer=ToktokTokenizer()\n",
        "#Setting English stopwords\n",
        "stopword_list=nltk.corpus.stopwords.words('english')"
      ],
      "metadata": {
        "id": "kKJc_eFgHupu"
      },
      "execution_count": null,
      "outputs": []
    },
    {
      "cell_type": "code",
      "source": [
        "from bs4 import BeautifulSoup\n",
        "\n",
        "#Removing the html strips\n",
        "def strip_html(text):\n",
        "    soup = BeautifulSoup(text, \"html.parser\")\n",
        "    return soup.get_text()"
      ],
      "metadata": {
        "id": "OuGddXSpHvXW"
      },
      "execution_count": null,
      "outputs": []
    },
    {
      "cell_type": "code",
      "source": [
        "import re,string,unicodedata\n",
        "\n",
        "#Removing the square brackets\n",
        "def remove_between_square_brackets(text):\n",
        "    return re.sub('\\[[^]]*\\]', '', text)"
      ],
      "metadata": {
        "id": "GFzXmwCoHvT8"
      },
      "execution_count": null,
      "outputs": []
    },
    {
      "cell_type": "code",
      "source": [
        "#Removing the noisy text\n",
        "def denoise_text(text):\n",
        "    text = strip_html(text)\n",
        "    text = remove_between_square_brackets(text)\n",
        "    return text"
      ],
      "metadata": {
        "id": "soRX8NEEHvSY"
      },
      "execution_count": null,
      "outputs": []
    },
    {
      "cell_type": "code",
      "source": [
        "data['Article']=data['Article'].apply(denoise_text)"
      ],
      "metadata": {
        "id": "NbQvueglHvQZ"
      },
      "execution_count": null,
      "outputs": []
    },
    {
      "cell_type": "code",
      "source": [
        "#Define function for removing special characters\n",
        "def remove_special_characters(text, remove_digits=True):\n",
        "    pattern=r'[^a-zA-z0-9\\s]'\n",
        "    text=re.sub(pattern,'',text)\n",
        "    return text"
      ],
      "metadata": {
        "id": "riE1XKXmHvOU"
      },
      "execution_count": null,
      "outputs": []
    },
    {
      "cell_type": "code",
      "source": [
        "data['Article']=data['Article'].apply(remove_special_characters)"
      ],
      "metadata": {
        "id": "35NbOWY-H85u"
      },
      "execution_count": null,
      "outputs": []
    },
    {
      "cell_type": "code",
      "source": [
        "# Import NLTK library\n",
        "import nltk\n",
        "from nltk.stem import WordNetLemmatizer\n",
        "nltk.download('wordnet')\n",
        "\n",
        "# Create a lemmatizer object\n",
        "lemmatizer = WordNetLemmatizer()\n",
        "\n",
        "# Define a function to perform lemmatization on a given text\n",
        "def lemmatize_text(text):\n",
        "    tokens = nltk.word_tokenize(text)\n",
        "    lemmatized_tokens = [lemmatizer.lemmatize(token) for token in tokens]\n",
        "    return ' '.join(lemmatized_tokens)"
      ],
      "metadata": {
        "colab": {
          "base_uri": "https://localhost:8080/"
        },
        "id": "jXa7KTskGHlw",
        "outputId": "d8a89ca0-c0ff-4874-8aa0-61725fdbfcab"
      },
      "execution_count": null,
      "outputs": [
        {
          "output_type": "stream",
          "name": "stderr",
          "text": [
            "[nltk_data] Downloading package wordnet to /root/nltk_data...\n",
            "[nltk_data]   Package wordnet is already up-to-date!\n"
          ]
        }
      ]
    },
    {
      "cell_type": "code",
      "source": [
        "Article = \"Lorem ipsum dolor sit amet, consectetur adipiscing elit...\"\n",
        "lemmatized_text = lemmatize_text(Article)"
      ],
      "metadata": {
        "id": "KYEUqXs_GMON"
      },
      "execution_count": null,
      "outputs": []
    },
    {
      "cell_type": "code",
      "source": [
        "#Stemming the text\n",
        "#def simple_stemmer(text):\n",
        "   # ps=nltk.porter.PorterStemmer()\n",
        "   # text= ' '.join([ps.stem(word) for word in text.split()])\n",
        "    #return text"
      ],
      "metadata": {
        "id": "05a-Azz6H822"
      },
      "execution_count": null,
      "outputs": []
    },
    {
      "cell_type": "code",
      "source": [
        "#data['Article']=data['Article'].apply(simple_stemmer)"
      ],
      "metadata": {
        "id": "iXnS2xUPH80b"
      },
      "execution_count": null,
      "outputs": []
    },
    {
      "cell_type": "code",
      "source": [
        "from nltk.corpus import stopwords\n",
        "\n",
        "\n",
        "#set stopwords to english\n",
        "stop=set(stopwords.words('english'))\n",
        "print(stop)\n",
        "\n",
        "#removing the stopwords\n",
        "def remove_stopwords(text, is_lower_case=False):\n",
        "    tokens = tokenizer.tokenize(text)\n",
        "    tokens = [token.strip() for token in tokens]\n",
        "    if is_lower_case:\n",
        "        filtered_tokens = [token for token in tokens if token not in stopword_list]\n",
        "    else:\n",
        "        filtered_tokens = [token for token in tokens if token.lower() not in stopword_list]\n",
        "    filtered_text = ' '.join(filtered_tokens)    \n",
        "    return filtered_text"
      ],
      "metadata": {
        "colab": {
          "base_uri": "https://localhost:8080/"
        },
        "id": "vzc_AMQmH8yQ",
        "outputId": "1cd806f2-ffcc-4620-f68f-7d2b13fe3c04"
      },
      "execution_count": null,
      "outputs": [
        {
          "output_type": "stream",
          "name": "stdout",
          "text": [
            "{\"it's\", 'y', 'an', 'which', 'had', 'doesn', 'can', 'your', 'where', \"won't\", 'll', 'again', 'herself', 'in', 's', 'myself', 'all', 'while', 'wasn', 'own', 'very', \"should've\", 've', 'over', 'further', \"aren't\", 'that', 'its', 'into', 'about', 'my', 'on', 'don', 'other', \"shouldn't\", 'she', 'by', \"you've\", 'most', 'how', \"haven't\", \"mustn't\", 'the', 'weren', 'doing', 'are', 'a', \"don't\", 'not', 'after', 'those', 'and', 'am', 'with', 'when', 'few', 'than', 't', 'just', 'because', 'itself', 'hers', 'ourselves', 're', 'shouldn', 'too', 'of', 'our', 'we', 'being', 'above', 'yourself', 'won', 'until', 'didn', \"you're\", 'themselves', 'does', 'here', 'but', 'out', 'ma', 'why', \"wasn't\", \"she's\", 'to', 'yourselves', 'now', 'him', 'both', 'was', 'they', 'needn', 'will', 'so', \"needn't\", 'below', 'been', \"shan't\", 'it', 'who', 'for', 'hasn', 'each', \"didn't\", 'any', 'his', \"you'll\", 'this', 'be', 'once', 'aren', \"couldn't\", \"weren't\", 'do', \"that'll\", 'have', 'only', 'm', 'as', 'or', 'such', 'himself', 'down', 'd', 'against', 'haven', 'wouldn', \"doesn't\", \"you'd\", 'before', 'these', 'having', 'from', 'has', 'should', \"hasn't\", \"isn't\", \"wouldn't\", 'mightn', 'off', 'up', 'more', 'their', 'whom', 'nor', 'is', 'isn', 'i', 'at', 'same', \"hadn't\", 'he', 'her', 'were', 'what', 'mustn', 'hadn', 'you', 'under', 'then', 'yours', 'did', 'between', 'some', 'o', 'through', 'during', 'ours', 'them', 'ain', 'no', 'if', 'shan', 'me', 'there', \"mightn't\", 'couldn', 'theirs'}\n"
          ]
        }
      ]
    },
    {
      "cell_type": "code",
      "source": [
        "data['Article']=data['Article'].apply(remove_stopwords)"
      ],
      "metadata": {
        "id": "Cv98kQKoH8wD"
      },
      "execution_count": null,
      "outputs": []
    },
    {
      "cell_type": "code",
      "source": [
        "data"
      ],
      "metadata": {
        "colab": {
          "base_uri": "https://localhost:8080/",
          "height": 832
        },
        "id": "M0P0YNOqIrya",
        "outputId": "ef2ee61c-c41b-4dab-a56b-013c2a1895a1"
      },
      "execution_count": null,
      "outputs": [
        {
          "output_type": "execute_result",
          "data": {
            "text/plain": [
              "                                                   TITLE  \\\n",
              "0            Reconstructing Subject-Specific Effect Maps   \n",
              "1                     Rotation Invariance Neural Network   \n",
              "2      Spherical polyharmonics and Poisson kernels fo...   \n",
              "3      A finite element approximation for the stochas...   \n",
              "4      Comparative study of Discrete Wavelet Transfor...   \n",
              "...                                                  ...   \n",
              "20963  Contemporary machine learning: a guide for pra...   \n",
              "20964  Uniform diamond coatings on WC-Co hard alloy c...   \n",
              "20965  Analysing Soccer Games with Clustering and Con...   \n",
              "20966  On the Efficient Simulation of the Left-Tail o...   \n",
              "20967   Why optional stopping is a problem for Bayesians   \n",
              "\n",
              "                                                ABSTRACT  Computer Science  \\\n",
              "0        Predictive models allow subject-specific inf...                 1   \n",
              "1        Rotation invariance and translation invarian...                 1   \n",
              "2        We introduce and develop the notion of spher...                 0   \n",
              "3        The stochastic Landau--Lifshitz--Gilbert (LL...                 0   \n",
              "4        Fourier-transform infra-red (FTIR) spectra o...                 1   \n",
              "...                                                  ...               ...   \n",
              "20963    Machine learning is finding increasingly bro...                 1   \n",
              "20964    Polycrystalline diamond coatings have been g...                 0   \n",
              "20965    We present a new approach for identifying si...                 1   \n",
              "20966    The sum of Log-normal variates is encountere...                 0   \n",
              "20967    Recently, optional stopping has been a subje...                 0   \n",
              "\n",
              "       Physics  Mathematics  Statistics  Quantitative Biology  \\\n",
              "0            0            0           0                     0   \n",
              "1            0            0           0                     0   \n",
              "2            0            1           0                     0   \n",
              "3            0            1           0                     0   \n",
              "4            0            0           1                     0   \n",
              "...        ...          ...         ...                   ...   \n",
              "20963        1            0           0                     0   \n",
              "20964        1            0           0                     0   \n",
              "20965        0            0           0                     0   \n",
              "20966        0            1           1                     0   \n",
              "20967        0            1           1                     0   \n",
              "\n",
              "       Quantitative Finance                                            Article  \n",
              "0                         0  reconstructing subjectspecific effect maps pre...  \n",
              "1                         0  rotation invariance neural network rotation in...  \n",
              "2                         0  spherical polyharmonics poisson kernels polyha...  \n",
              "3                         0  finite element approximation stochastic maxwel...  \n",
              "4                         0  comparative study discrete wavelet transforms ...  \n",
              "...                     ...                                                ...  \n",
              "20963                     0  contemporary machine learning guide practition...  \n",
              "20964                     0  uniform diamond coatings wcco hard alloy cutti...  \n",
              "20965                     0  analysing soccer games clustering conceptors p...  \n",
              "20966                     0  efficient simulation lefttail sum correlated l...  \n",
              "20967                     0  optional stopping problem bayesians recently o...  \n",
              "\n",
              "[20968 rows x 9 columns]"
            ],
            "text/html": [
              "\n",
              "  <div id=\"df-216d80b6-e683-4575-ac3a-132cb36d83a9\">\n",
              "    <div class=\"colab-df-container\">\n",
              "      <div>\n",
              "<style scoped>\n",
              "    .dataframe tbody tr th:only-of-type {\n",
              "        vertical-align: middle;\n",
              "    }\n",
              "\n",
              "    .dataframe tbody tr th {\n",
              "        vertical-align: top;\n",
              "    }\n",
              "\n",
              "    .dataframe thead th {\n",
              "        text-align: right;\n",
              "    }\n",
              "</style>\n",
              "<table border=\"1\" class=\"dataframe\">\n",
              "  <thead>\n",
              "    <tr style=\"text-align: right;\">\n",
              "      <th></th>\n",
              "      <th>TITLE</th>\n",
              "      <th>ABSTRACT</th>\n",
              "      <th>Computer Science</th>\n",
              "      <th>Physics</th>\n",
              "      <th>Mathematics</th>\n",
              "      <th>Statistics</th>\n",
              "      <th>Quantitative Biology</th>\n",
              "      <th>Quantitative Finance</th>\n",
              "      <th>Article</th>\n",
              "    </tr>\n",
              "  </thead>\n",
              "  <tbody>\n",
              "    <tr>\n",
              "      <th>0</th>\n",
              "      <td>Reconstructing Subject-Specific Effect Maps</td>\n",
              "      <td>Predictive models allow subject-specific inf...</td>\n",
              "      <td>1</td>\n",
              "      <td>0</td>\n",
              "      <td>0</td>\n",
              "      <td>0</td>\n",
              "      <td>0</td>\n",
              "      <td>0</td>\n",
              "      <td>reconstructing subjectspecific effect maps pre...</td>\n",
              "    </tr>\n",
              "    <tr>\n",
              "      <th>1</th>\n",
              "      <td>Rotation Invariance Neural Network</td>\n",
              "      <td>Rotation invariance and translation invarian...</td>\n",
              "      <td>1</td>\n",
              "      <td>0</td>\n",
              "      <td>0</td>\n",
              "      <td>0</td>\n",
              "      <td>0</td>\n",
              "      <td>0</td>\n",
              "      <td>rotation invariance neural network rotation in...</td>\n",
              "    </tr>\n",
              "    <tr>\n",
              "      <th>2</th>\n",
              "      <td>Spherical polyharmonics and Poisson kernels fo...</td>\n",
              "      <td>We introduce and develop the notion of spher...</td>\n",
              "      <td>0</td>\n",
              "      <td>0</td>\n",
              "      <td>1</td>\n",
              "      <td>0</td>\n",
              "      <td>0</td>\n",
              "      <td>0</td>\n",
              "      <td>spherical polyharmonics poisson kernels polyha...</td>\n",
              "    </tr>\n",
              "    <tr>\n",
              "      <th>3</th>\n",
              "      <td>A finite element approximation for the stochas...</td>\n",
              "      <td>The stochastic Landau--Lifshitz--Gilbert (LL...</td>\n",
              "      <td>0</td>\n",
              "      <td>0</td>\n",
              "      <td>1</td>\n",
              "      <td>0</td>\n",
              "      <td>0</td>\n",
              "      <td>0</td>\n",
              "      <td>finite element approximation stochastic maxwel...</td>\n",
              "    </tr>\n",
              "    <tr>\n",
              "      <th>4</th>\n",
              "      <td>Comparative study of Discrete Wavelet Transfor...</td>\n",
              "      <td>Fourier-transform infra-red (FTIR) spectra o...</td>\n",
              "      <td>1</td>\n",
              "      <td>0</td>\n",
              "      <td>0</td>\n",
              "      <td>1</td>\n",
              "      <td>0</td>\n",
              "      <td>0</td>\n",
              "      <td>comparative study discrete wavelet transforms ...</td>\n",
              "    </tr>\n",
              "    <tr>\n",
              "      <th>...</th>\n",
              "      <td>...</td>\n",
              "      <td>...</td>\n",
              "      <td>...</td>\n",
              "      <td>...</td>\n",
              "      <td>...</td>\n",
              "      <td>...</td>\n",
              "      <td>...</td>\n",
              "      <td>...</td>\n",
              "      <td>...</td>\n",
              "    </tr>\n",
              "    <tr>\n",
              "      <th>20963</th>\n",
              "      <td>Contemporary machine learning: a guide for pra...</td>\n",
              "      <td>Machine learning is finding increasingly bro...</td>\n",
              "      <td>1</td>\n",
              "      <td>1</td>\n",
              "      <td>0</td>\n",
              "      <td>0</td>\n",
              "      <td>0</td>\n",
              "      <td>0</td>\n",
              "      <td>contemporary machine learning guide practition...</td>\n",
              "    </tr>\n",
              "    <tr>\n",
              "      <th>20964</th>\n",
              "      <td>Uniform diamond coatings on WC-Co hard alloy c...</td>\n",
              "      <td>Polycrystalline diamond coatings have been g...</td>\n",
              "      <td>0</td>\n",
              "      <td>1</td>\n",
              "      <td>0</td>\n",
              "      <td>0</td>\n",
              "      <td>0</td>\n",
              "      <td>0</td>\n",
              "      <td>uniform diamond coatings wcco hard alloy cutti...</td>\n",
              "    </tr>\n",
              "    <tr>\n",
              "      <th>20965</th>\n",
              "      <td>Analysing Soccer Games with Clustering and Con...</td>\n",
              "      <td>We present a new approach for identifying si...</td>\n",
              "      <td>1</td>\n",
              "      <td>0</td>\n",
              "      <td>0</td>\n",
              "      <td>0</td>\n",
              "      <td>0</td>\n",
              "      <td>0</td>\n",
              "      <td>analysing soccer games clustering conceptors p...</td>\n",
              "    </tr>\n",
              "    <tr>\n",
              "      <th>20966</th>\n",
              "      <td>On the Efficient Simulation of the Left-Tail o...</td>\n",
              "      <td>The sum of Log-normal variates is encountere...</td>\n",
              "      <td>0</td>\n",
              "      <td>0</td>\n",
              "      <td>1</td>\n",
              "      <td>1</td>\n",
              "      <td>0</td>\n",
              "      <td>0</td>\n",
              "      <td>efficient simulation lefttail sum correlated l...</td>\n",
              "    </tr>\n",
              "    <tr>\n",
              "      <th>20967</th>\n",
              "      <td>Why optional stopping is a problem for Bayesians</td>\n",
              "      <td>Recently, optional stopping has been a subje...</td>\n",
              "      <td>0</td>\n",
              "      <td>0</td>\n",
              "      <td>1</td>\n",
              "      <td>1</td>\n",
              "      <td>0</td>\n",
              "      <td>0</td>\n",
              "      <td>optional stopping problem bayesians recently o...</td>\n",
              "    </tr>\n",
              "  </tbody>\n",
              "</table>\n",
              "<p>20968 rows × 9 columns</p>\n",
              "</div>\n",
              "      <button class=\"colab-df-convert\" onclick=\"convertToInteractive('df-216d80b6-e683-4575-ac3a-132cb36d83a9')\"\n",
              "              title=\"Convert this dataframe to an interactive table.\"\n",
              "              style=\"display:none;\">\n",
              "        \n",
              "  <svg xmlns=\"http://www.w3.org/2000/svg\" height=\"24px\"viewBox=\"0 0 24 24\"\n",
              "       width=\"24px\">\n",
              "    <path d=\"M0 0h24v24H0V0z\" fill=\"none\"/>\n",
              "    <path d=\"M18.56 5.44l.94 2.06.94-2.06 2.06-.94-2.06-.94-.94-2.06-.94 2.06-2.06.94zm-11 1L8.5 8.5l.94-2.06 2.06-.94-2.06-.94L8.5 2.5l-.94 2.06-2.06.94zm10 10l.94 2.06.94-2.06 2.06-.94-2.06-.94-.94-2.06-.94 2.06-2.06.94z\"/><path d=\"M17.41 7.96l-1.37-1.37c-.4-.4-.92-.59-1.43-.59-.52 0-1.04.2-1.43.59L10.3 9.45l-7.72 7.72c-.78.78-.78 2.05 0 2.83L4 21.41c.39.39.9.59 1.41.59.51 0 1.02-.2 1.41-.59l7.78-7.78 2.81-2.81c.8-.78.8-2.07 0-2.86zM5.41 20L4 18.59l7.72-7.72 1.47 1.35L5.41 20z\"/>\n",
              "  </svg>\n",
              "      </button>\n",
              "      \n",
              "  <style>\n",
              "    .colab-df-container {\n",
              "      display:flex;\n",
              "      flex-wrap:wrap;\n",
              "      gap: 12px;\n",
              "    }\n",
              "\n",
              "    .colab-df-convert {\n",
              "      background-color: #E8F0FE;\n",
              "      border: none;\n",
              "      border-radius: 50%;\n",
              "      cursor: pointer;\n",
              "      display: none;\n",
              "      fill: #1967D2;\n",
              "      height: 32px;\n",
              "      padding: 0 0 0 0;\n",
              "      width: 32px;\n",
              "    }\n",
              "\n",
              "    .colab-df-convert:hover {\n",
              "      background-color: #E2EBFA;\n",
              "      box-shadow: 0px 1px 2px rgba(60, 64, 67, 0.3), 0px 1px 3px 1px rgba(60, 64, 67, 0.15);\n",
              "      fill: #174EA6;\n",
              "    }\n",
              "\n",
              "    [theme=dark] .colab-df-convert {\n",
              "      background-color: #3B4455;\n",
              "      fill: #D2E3FC;\n",
              "    }\n",
              "\n",
              "    [theme=dark] .colab-df-convert:hover {\n",
              "      background-color: #434B5C;\n",
              "      box-shadow: 0px 1px 3px 1px rgba(0, 0, 0, 0.15);\n",
              "      filter: drop-shadow(0px 1px 2px rgba(0, 0, 0, 0.3));\n",
              "      fill: #FFFFFF;\n",
              "    }\n",
              "  </style>\n",
              "\n",
              "      <script>\n",
              "        const buttonEl =\n",
              "          document.querySelector('#df-216d80b6-e683-4575-ac3a-132cb36d83a9 button.colab-df-convert');\n",
              "        buttonEl.style.display =\n",
              "          google.colab.kernel.accessAllowed ? 'block' : 'none';\n",
              "\n",
              "        async function convertToInteractive(key) {\n",
              "          const element = document.querySelector('#df-216d80b6-e683-4575-ac3a-132cb36d83a9');\n",
              "          const dataTable =\n",
              "            await google.colab.kernel.invokeFunction('convertToInteractive',\n",
              "                                                     [key], {});\n",
              "          if (!dataTable) return;\n",
              "\n",
              "          const docLinkHtml = 'Like what you see? Visit the ' +\n",
              "            '<a target=\"_blank\" href=https://colab.research.google.com/notebooks/data_table.ipynb>data table notebook</a>'\n",
              "            + ' to learn more about interactive tables.';\n",
              "          element.innerHTML = '';\n",
              "          dataTable['output_type'] = 'display_data';\n",
              "          await google.colab.output.renderOutput(dataTable, element);\n",
              "          const docLink = document.createElement('div');\n",
              "          docLink.innerHTML = docLinkHtml;\n",
              "          element.appendChild(docLink);\n",
              "        }\n",
              "      </script>\n",
              "    </div>\n",
              "  </div>\n",
              "  "
            ]
          },
          "metadata": {},
          "execution_count": 26
        }
      ]
    },
    {
      "cell_type": "code",
      "source": [
        "from nltk.stem import WordNetLemmatizer,SnowballStemmer\n",
        "\n",
        "def simple_stemmer(text):\n",
        "    ps = SnowballStemmer(language='english')\n",
        "    return ' '.join([ps.stem(word) for word in tokenizer.tokenize(text)])"
      ],
      "metadata": {
        "id": "pXlwK-clH8tq"
      },
      "execution_count": null,
      "outputs": []
    },
    {
      "cell_type": "code",
      "source": [
        "data['Article'][0]"
      ],
      "metadata": {
        "colab": {
          "base_uri": "https://localhost:8080/",
          "height": 140
        },
        "id": "M5pWumRZiH6n",
        "outputId": "afdfe279-2ca8-468a-e59d-c50bb25e3ff7"
      },
      "execution_count": null,
      "outputs": [
        {
          "output_type": "execute_result",
          "data": {
            "text/plain": [
              "'reconstructing subjectspecific effect maps predictive models allow subjectspecific inference analyzing disease related alterations neuroimaging data given subjects data inference made two levels global ie identifiying condition presence subject local ie detecting condition effect individual measurement extracted subjects data global inference widely used local inference used form subjectspecific effect maps rarely used existing models often yield noisy detections composed dispersed isolated islands article propose reconstruction method named rsm improve subjectspecific detections predictive modeling approaches particular binary classifiers rsm specifically aims reduce noise due sampling error associated using finite sample examples train classifiers proposed method wrappertype algorithm used different binary classifiers diagnostic manner ie without information condition presence reconstruction posed maximumaposteriori problem prior model whose parameters estimated training data classifierspecific fashion experimental evaluation performed synthetically generated data data alzheimers disease neuroimaging initiative adni database results synthetic data demonstrate using rsm yields higher detection accuracy compared using models directly bootstrap averaging analyses adni dataset show rsm also improve correlation subjectspecific detections cortical thickness data nonimaging markers alzheimers disease ad mini mental state examination score cerebrospinal fluid amyloidbeta levels reliability studies longitudinal adni dataset show improvement detection reliability rsm used'"
            ],
            "application/vnd.google.colaboratory.intrinsic+json": {
              "type": "string"
            }
          },
          "metadata": {},
          "execution_count": 28
        }
      ]
    },
    {
      "cell_type": "code",
      "source": [
        "data=data[{'Computer Science','Physics','Mathematics','Statistics','Quantitative Biology','Quantitative Finance','Article'}]\n",
        "data"
      ],
      "metadata": {
        "colab": {
          "base_uri": "https://localhost:8080/",
          "height": 467
        },
        "id": "TmjebFVNsum4",
        "outputId": "eb3ff39f-41b7-403f-c687-81a30df0b1d9"
      },
      "execution_count": null,
      "outputs": [
        {
          "output_type": "execute_result",
          "data": {
            "text/plain": [
              "                                                 Article  Computer Science  \\\n",
              "0      reconstructing subjectspecific effect maps pre...                 1   \n",
              "1      rotation invariance neural network rotation in...                 1   \n",
              "2      spherical polyharmonics poisson kernels polyha...                 0   \n",
              "3      finite element approximation stochastic maxwel...                 0   \n",
              "4      comparative study discrete wavelet transforms ...                 1   \n",
              "...                                                  ...               ...   \n",
              "20963  contemporary machine learning guide practition...                 1   \n",
              "20964  uniform diamond coatings wcco hard alloy cutti...                 0   \n",
              "20965  analysing soccer games clustering conceptors p...                 1   \n",
              "20966  efficient simulation lefttail sum correlated l...                 0   \n",
              "20967  optional stopping problem bayesians recently o...                 0   \n",
              "\n",
              "       Physics  Statistics  Quantitative Finance  Quantitative Biology  \\\n",
              "0            0           0                     0                     0   \n",
              "1            0           0                     0                     0   \n",
              "2            0           0                     0                     0   \n",
              "3            0           0                     0                     0   \n",
              "4            0           1                     0                     0   \n",
              "...        ...         ...                   ...                   ...   \n",
              "20963        1           0                     0                     0   \n",
              "20964        1           0                     0                     0   \n",
              "20965        0           0                     0                     0   \n",
              "20966        0           1                     0                     0   \n",
              "20967        0           1                     0                     0   \n",
              "\n",
              "       Mathematics  \n",
              "0                0  \n",
              "1                0  \n",
              "2                1  \n",
              "3                1  \n",
              "4                0  \n",
              "...            ...  \n",
              "20963            0  \n",
              "20964            0  \n",
              "20965            0  \n",
              "20966            1  \n",
              "20967            1  \n",
              "\n",
              "[20968 rows x 7 columns]"
            ],
            "text/html": [
              "\n",
              "  <div id=\"df-f470fafc-67b3-40a4-bfdc-74ee4771cd9f\">\n",
              "    <div class=\"colab-df-container\">\n",
              "      <div>\n",
              "<style scoped>\n",
              "    .dataframe tbody tr th:only-of-type {\n",
              "        vertical-align: middle;\n",
              "    }\n",
              "\n",
              "    .dataframe tbody tr th {\n",
              "        vertical-align: top;\n",
              "    }\n",
              "\n",
              "    .dataframe thead th {\n",
              "        text-align: right;\n",
              "    }\n",
              "</style>\n",
              "<table border=\"1\" class=\"dataframe\">\n",
              "  <thead>\n",
              "    <tr style=\"text-align: right;\">\n",
              "      <th></th>\n",
              "      <th>Article</th>\n",
              "      <th>Computer Science</th>\n",
              "      <th>Physics</th>\n",
              "      <th>Statistics</th>\n",
              "      <th>Quantitative Finance</th>\n",
              "      <th>Quantitative Biology</th>\n",
              "      <th>Mathematics</th>\n",
              "    </tr>\n",
              "  </thead>\n",
              "  <tbody>\n",
              "    <tr>\n",
              "      <th>0</th>\n",
              "      <td>reconstructing subjectspecific effect maps pre...</td>\n",
              "      <td>1</td>\n",
              "      <td>0</td>\n",
              "      <td>0</td>\n",
              "      <td>0</td>\n",
              "      <td>0</td>\n",
              "      <td>0</td>\n",
              "    </tr>\n",
              "    <tr>\n",
              "      <th>1</th>\n",
              "      <td>rotation invariance neural network rotation in...</td>\n",
              "      <td>1</td>\n",
              "      <td>0</td>\n",
              "      <td>0</td>\n",
              "      <td>0</td>\n",
              "      <td>0</td>\n",
              "      <td>0</td>\n",
              "    </tr>\n",
              "    <tr>\n",
              "      <th>2</th>\n",
              "      <td>spherical polyharmonics poisson kernels polyha...</td>\n",
              "      <td>0</td>\n",
              "      <td>0</td>\n",
              "      <td>0</td>\n",
              "      <td>0</td>\n",
              "      <td>0</td>\n",
              "      <td>1</td>\n",
              "    </tr>\n",
              "    <tr>\n",
              "      <th>3</th>\n",
              "      <td>finite element approximation stochastic maxwel...</td>\n",
              "      <td>0</td>\n",
              "      <td>0</td>\n",
              "      <td>0</td>\n",
              "      <td>0</td>\n",
              "      <td>0</td>\n",
              "      <td>1</td>\n",
              "    </tr>\n",
              "    <tr>\n",
              "      <th>4</th>\n",
              "      <td>comparative study discrete wavelet transforms ...</td>\n",
              "      <td>1</td>\n",
              "      <td>0</td>\n",
              "      <td>1</td>\n",
              "      <td>0</td>\n",
              "      <td>0</td>\n",
              "      <td>0</td>\n",
              "    </tr>\n",
              "    <tr>\n",
              "      <th>...</th>\n",
              "      <td>...</td>\n",
              "      <td>...</td>\n",
              "      <td>...</td>\n",
              "      <td>...</td>\n",
              "      <td>...</td>\n",
              "      <td>...</td>\n",
              "      <td>...</td>\n",
              "    </tr>\n",
              "    <tr>\n",
              "      <th>20963</th>\n",
              "      <td>contemporary machine learning guide practition...</td>\n",
              "      <td>1</td>\n",
              "      <td>1</td>\n",
              "      <td>0</td>\n",
              "      <td>0</td>\n",
              "      <td>0</td>\n",
              "      <td>0</td>\n",
              "    </tr>\n",
              "    <tr>\n",
              "      <th>20964</th>\n",
              "      <td>uniform diamond coatings wcco hard alloy cutti...</td>\n",
              "      <td>0</td>\n",
              "      <td>1</td>\n",
              "      <td>0</td>\n",
              "      <td>0</td>\n",
              "      <td>0</td>\n",
              "      <td>0</td>\n",
              "    </tr>\n",
              "    <tr>\n",
              "      <th>20965</th>\n",
              "      <td>analysing soccer games clustering conceptors p...</td>\n",
              "      <td>1</td>\n",
              "      <td>0</td>\n",
              "      <td>0</td>\n",
              "      <td>0</td>\n",
              "      <td>0</td>\n",
              "      <td>0</td>\n",
              "    </tr>\n",
              "    <tr>\n",
              "      <th>20966</th>\n",
              "      <td>efficient simulation lefttail sum correlated l...</td>\n",
              "      <td>0</td>\n",
              "      <td>0</td>\n",
              "      <td>1</td>\n",
              "      <td>0</td>\n",
              "      <td>0</td>\n",
              "      <td>1</td>\n",
              "    </tr>\n",
              "    <tr>\n",
              "      <th>20967</th>\n",
              "      <td>optional stopping problem bayesians recently o...</td>\n",
              "      <td>0</td>\n",
              "      <td>0</td>\n",
              "      <td>1</td>\n",
              "      <td>0</td>\n",
              "      <td>0</td>\n",
              "      <td>1</td>\n",
              "    </tr>\n",
              "  </tbody>\n",
              "</table>\n",
              "<p>20968 rows × 7 columns</p>\n",
              "</div>\n",
              "      <button class=\"colab-df-convert\" onclick=\"convertToInteractive('df-f470fafc-67b3-40a4-bfdc-74ee4771cd9f')\"\n",
              "              title=\"Convert this dataframe to an interactive table.\"\n",
              "              style=\"display:none;\">\n",
              "        \n",
              "  <svg xmlns=\"http://www.w3.org/2000/svg\" height=\"24px\"viewBox=\"0 0 24 24\"\n",
              "       width=\"24px\">\n",
              "    <path d=\"M0 0h24v24H0V0z\" fill=\"none\"/>\n",
              "    <path d=\"M18.56 5.44l.94 2.06.94-2.06 2.06-.94-2.06-.94-.94-2.06-.94 2.06-2.06.94zm-11 1L8.5 8.5l.94-2.06 2.06-.94-2.06-.94L8.5 2.5l-.94 2.06-2.06.94zm10 10l.94 2.06.94-2.06 2.06-.94-2.06-.94-.94-2.06-.94 2.06-2.06.94z\"/><path d=\"M17.41 7.96l-1.37-1.37c-.4-.4-.92-.59-1.43-.59-.52 0-1.04.2-1.43.59L10.3 9.45l-7.72 7.72c-.78.78-.78 2.05 0 2.83L4 21.41c.39.39.9.59 1.41.59.51 0 1.02-.2 1.41-.59l7.78-7.78 2.81-2.81c.8-.78.8-2.07 0-2.86zM5.41 20L4 18.59l7.72-7.72 1.47 1.35L5.41 20z\"/>\n",
              "  </svg>\n",
              "      </button>\n",
              "      \n",
              "  <style>\n",
              "    .colab-df-container {\n",
              "      display:flex;\n",
              "      flex-wrap:wrap;\n",
              "      gap: 12px;\n",
              "    }\n",
              "\n",
              "    .colab-df-convert {\n",
              "      background-color: #E8F0FE;\n",
              "      border: none;\n",
              "      border-radius: 50%;\n",
              "      cursor: pointer;\n",
              "      display: none;\n",
              "      fill: #1967D2;\n",
              "      height: 32px;\n",
              "      padding: 0 0 0 0;\n",
              "      width: 32px;\n",
              "    }\n",
              "\n",
              "    .colab-df-convert:hover {\n",
              "      background-color: #E2EBFA;\n",
              "      box-shadow: 0px 1px 2px rgba(60, 64, 67, 0.3), 0px 1px 3px 1px rgba(60, 64, 67, 0.15);\n",
              "      fill: #174EA6;\n",
              "    }\n",
              "\n",
              "    [theme=dark] .colab-df-convert {\n",
              "      background-color: #3B4455;\n",
              "      fill: #D2E3FC;\n",
              "    }\n",
              "\n",
              "    [theme=dark] .colab-df-convert:hover {\n",
              "      background-color: #434B5C;\n",
              "      box-shadow: 0px 1px 3px 1px rgba(0, 0, 0, 0.15);\n",
              "      filter: drop-shadow(0px 1px 2px rgba(0, 0, 0, 0.3));\n",
              "      fill: #FFFFFF;\n",
              "    }\n",
              "  </style>\n",
              "\n",
              "      <script>\n",
              "        const buttonEl =\n",
              "          document.querySelector('#df-f470fafc-67b3-40a4-bfdc-74ee4771cd9f button.colab-df-convert');\n",
              "        buttonEl.style.display =\n",
              "          google.colab.kernel.accessAllowed ? 'block' : 'none';\n",
              "\n",
              "        async function convertToInteractive(key) {\n",
              "          const element = document.querySelector('#df-f470fafc-67b3-40a4-bfdc-74ee4771cd9f');\n",
              "          const dataTable =\n",
              "            await google.colab.kernel.invokeFunction('convertToInteractive',\n",
              "                                                     [key], {});\n",
              "          if (!dataTable) return;\n",
              "\n",
              "          const docLinkHtml = 'Like what you see? Visit the ' +\n",
              "            '<a target=\"_blank\" href=https://colab.research.google.com/notebooks/data_table.ipynb>data table notebook</a>'\n",
              "            + ' to learn more about interactive tables.';\n",
              "          element.innerHTML = '';\n",
              "          dataTable['output_type'] = 'display_data';\n",
              "          await google.colab.output.renderOutput(dataTable, element);\n",
              "          const docLink = document.createElement('div');\n",
              "          docLink.innerHTML = docLinkHtml;\n",
              "          element.appendChild(docLink);\n",
              "        }\n",
              "      </script>\n",
              "    </div>\n",
              "  </div>\n",
              "  "
            ]
          },
          "metadata": {},
          "execution_count": 29
        }
      ]
    },
    {
      "cell_type": "code",
      "source": [
        "print(\"\\n\\nWith TFIDFVectorizer\")\n",
        "vectorizer = TfidfVectorizer(max_features=10)\n",
        "X = vectorizer.fit_transform(data.Article)\n",
        "print(vectorizer.get_feature_names_out())\n",
        "print(X.toarray())\n",
        "print(\"\\n\")\n",
        "#print(cosine_similarity(X))"
      ],
      "metadata": {
        "colab": {
          "base_uri": "https://localhost:8080/"
        },
        "id": "9-oRf6JAHQ1-",
        "outputId": "0bb99d7b-ace5-4c0d-c491-a93ce9738fdb"
      },
      "execution_count": null,
      "outputs": [
        {
          "output_type": "stream",
          "name": "stdout",
          "text": [
            "\n",
            "\n",
            "With TFIDFVectorizer\n",
            "['also' 'data' 'learning' 'method' 'model' 'paper' 'problem' 'results'\n",
            " 'show' 'using']\n",
            "[[0.10547984 0.8732561  0.         ... 0.10228775 0.19875041 0.30250132]\n",
            " [0.48141232 0.         0.59394968 ... 0.         0.         0.46020757]\n",
            " [0.         0.         0.         ... 0.         1.         0.        ]\n",
            " ...\n",
            " [0.77890537 0.40302954 0.4804931  ... 0.         0.         0.        ]\n",
            " [0.         0.         0.         ... 0.64363981 0.         0.        ]\n",
            " [0.         0.         0.         ... 0.         0.         0.        ]]\n",
            "\n",
            "\n"
          ]
        }
      ]
    },
    {
      "cell_type": "code",
      "source": [
        "print(\"\\n\\nWith TFIDFVectorizer and removing stop words\")\n",
        "vectorizer = TfidfVectorizer(stop_words=list(nlp.Defaults.stop_words), max_features=10)\n",
        "X = vectorizer.fit_transform(data.Article)\n",
        "print(vectorizer.get_feature_names_out())\n",
        "print(X.toarray())"
      ],
      "metadata": {
        "colab": {
          "base_uri": "https://localhost:8080/"
        },
        "id": "L3K2qyj-HI1w",
        "outputId": "c8c9c74c-fb29-47d6-cf72-4f4297113e23"
      },
      "execution_count": null,
      "outputs": [
        {
          "output_type": "stream",
          "name": "stdout",
          "text": [
            "\n",
            "\n",
            "With TFIDFVectorizer and removing stop words\n"
          ]
        },
        {
          "output_type": "stream",
          "name": "stderr",
          "text": [
            "/usr/local/lib/python3.8/dist-packages/sklearn/feature_extraction/text.py:409: UserWarning: Your stop_words may be inconsistent with your preprocessing. Tokenizing the stop words generated tokens ['ll', 've'] not in stop_words.\n",
            "  warnings.warn(\n"
          ]
        },
        {
          "output_type": "stream",
          "name": "stdout",
          "text": [
            "['based' 'data' 'learning' 'method' 'model' 'models' 'network' 'paper'\n",
            " 'problem' 'results']\n",
            "[[0.         0.871092   0.         ... 0.         0.1213252  0.10203426]\n",
            " [0.         0.         0.28872225 ... 0.2193812  0.         0.        ]\n",
            " [0.         0.         0.         ... 0.         0.         0.        ]\n",
            " ...\n",
            " [0.         0.33327831 0.39733546 ... 0.         0.         0.        ]\n",
            " [0.         0.         0.         ... 0.         0.76532856 0.64363981]\n",
            " [0.         0.         0.         ... 0.         1.         0.        ]]\n"
          ]
        }
      ]
    },
    {
      "cell_type": "markdown",
      "source": [
        "# **LOGISTIC REGRESSION**"
      ],
      "metadata": {
        "id": "O3x-1NWdz_C7"
      }
    },
    {
      "cell_type": "code",
      "source": [
        "X= data['Article']\n",
        "y=data.drop(\"Article\", axis=1)\n",
        "X.head"
      ],
      "metadata": {
        "id": "uZkF9BntunJ0",
        "colab": {
          "base_uri": "https://localhost:8080/"
        },
        "outputId": "71e2a15c-e28e-4ea2-ccc7-3cfaa1113842"
      },
      "execution_count": null,
      "outputs": [
        {
          "output_type": "execute_result",
          "data": {
            "text/plain": [
              "<bound method NDFrame.head of 0        reconstructing subjectspecific effect maps pre...\n",
              "1        rotation invariance neural network rotation in...\n",
              "2        spherical polyharmonics poisson kernels polyha...\n",
              "3        finite element approximation stochastic maxwel...\n",
              "4        comparative study discrete wavelet transforms ...\n",
              "                               ...                        \n",
              "20963    contemporary machine learning guide practition...\n",
              "20964    uniform diamond coatings wcco hard alloy cutti...\n",
              "20965    analysing soccer games clustering conceptors p...\n",
              "20966    efficient simulation lefttail sum correlated l...\n",
              "20967    optional stopping problem bayesians recently o...\n",
              "Name: Article, Length: 20968, dtype: object>"
            ]
          },
          "metadata": {},
          "execution_count": 32
        }
      ]
    },
    {
      "cell_type": "code",
      "source": [
        "# Splitting the dataset into training and testing sets\n",
        "X_train, X_test, y_train, y_test = train_test_split(X,y, test_size=0.2, random_state=0)"
      ],
      "metadata": {
        "id": "XjcUvHkCsZ9x"
      },
      "execution_count": null,
      "outputs": []
    },
    {
      "cell_type": "code",
      "source": [
        "# Convert text to vectors using TF-IDF\n",
        "vectorizer = TfidfVectorizer(max_features=1000)\n",
        "X_train = vectorizer.fit_transform(X_train)\n",
        "X_test = vectorizer.transform(X_test)"
      ],
      "metadata": {
        "id": "B1s1CTwwsZ7s"
      },
      "execution_count": null,
      "outputs": []
    },
    {
      "cell_type": "code",
      "source": [
        "import sklearn\n",
        "log = sklearn.linear_model.LogisticRegression()"
      ],
      "metadata": {
        "id": "mtA1PYv0sZ5r"
      },
      "execution_count": null,
      "outputs": []
    },
    {
      "cell_type": "code",
      "source": [
        "from sklearn.multioutput import MultiOutputClassifier\n",
        "model =  MultiOutputClassifier(log)"
      ],
      "metadata": {
        "id": "q11SmHl1sZ3e"
      },
      "execution_count": null,
      "outputs": []
    },
    {
      "cell_type": "code",
      "source": [
        "model.fit(X_train,y_train)"
      ],
      "metadata": {
        "id": "tdFynfudvOeE",
        "colab": {
          "base_uri": "https://localhost:8080/",
          "height": 117
        },
        "outputId": "73105ac9-2d1a-4407-88ed-9fc2fc4a1dca"
      },
      "execution_count": null,
      "outputs": [
        {
          "output_type": "execute_result",
          "data": {
            "text/plain": [
              "MultiOutputClassifier(estimator=LogisticRegression())"
            ],
            "text/html": [
              "<style>#sk-container-id-1 {color: black;background-color: white;}#sk-container-id-1 pre{padding: 0;}#sk-container-id-1 div.sk-toggleable {background-color: white;}#sk-container-id-1 label.sk-toggleable__label {cursor: pointer;display: block;width: 100%;margin-bottom: 0;padding: 0.3em;box-sizing: border-box;text-align: center;}#sk-container-id-1 label.sk-toggleable__label-arrow:before {content: \"▸\";float: left;margin-right: 0.25em;color: #696969;}#sk-container-id-1 label.sk-toggleable__label-arrow:hover:before {color: black;}#sk-container-id-1 div.sk-estimator:hover label.sk-toggleable__label-arrow:before {color: black;}#sk-container-id-1 div.sk-toggleable__content {max-height: 0;max-width: 0;overflow: hidden;text-align: left;background-color: #f0f8ff;}#sk-container-id-1 div.sk-toggleable__content pre {margin: 0.2em;color: black;border-radius: 0.25em;background-color: #f0f8ff;}#sk-container-id-1 input.sk-toggleable__control:checked~div.sk-toggleable__content {max-height: 200px;max-width: 100%;overflow: auto;}#sk-container-id-1 input.sk-toggleable__control:checked~label.sk-toggleable__label-arrow:before {content: \"▾\";}#sk-container-id-1 div.sk-estimator input.sk-toggleable__control:checked~label.sk-toggleable__label {background-color: #d4ebff;}#sk-container-id-1 div.sk-label input.sk-toggleable__control:checked~label.sk-toggleable__label {background-color: #d4ebff;}#sk-container-id-1 input.sk-hidden--visually {border: 0;clip: rect(1px 1px 1px 1px);clip: rect(1px, 1px, 1px, 1px);height: 1px;margin: -1px;overflow: hidden;padding: 0;position: absolute;width: 1px;}#sk-container-id-1 div.sk-estimator {font-family: monospace;background-color: #f0f8ff;border: 1px dotted black;border-radius: 0.25em;box-sizing: border-box;margin-bottom: 0.5em;}#sk-container-id-1 div.sk-estimator:hover {background-color: #d4ebff;}#sk-container-id-1 div.sk-parallel-item::after {content: \"\";width: 100%;border-bottom: 1px solid gray;flex-grow: 1;}#sk-container-id-1 div.sk-label:hover label.sk-toggleable__label {background-color: #d4ebff;}#sk-container-id-1 div.sk-serial::before {content: \"\";position: absolute;border-left: 1px solid gray;box-sizing: border-box;top: 0;bottom: 0;left: 50%;z-index: 0;}#sk-container-id-1 div.sk-serial {display: flex;flex-direction: column;align-items: center;background-color: white;padding-right: 0.2em;padding-left: 0.2em;position: relative;}#sk-container-id-1 div.sk-item {position: relative;z-index: 1;}#sk-container-id-1 div.sk-parallel {display: flex;align-items: stretch;justify-content: center;background-color: white;position: relative;}#sk-container-id-1 div.sk-item::before, #sk-container-id-1 div.sk-parallel-item::before {content: \"\";position: absolute;border-left: 1px solid gray;box-sizing: border-box;top: 0;bottom: 0;left: 50%;z-index: -1;}#sk-container-id-1 div.sk-parallel-item {display: flex;flex-direction: column;z-index: 1;position: relative;background-color: white;}#sk-container-id-1 div.sk-parallel-item:first-child::after {align-self: flex-end;width: 50%;}#sk-container-id-1 div.sk-parallel-item:last-child::after {align-self: flex-start;width: 50%;}#sk-container-id-1 div.sk-parallel-item:only-child::after {width: 0;}#sk-container-id-1 div.sk-dashed-wrapped {border: 1px dashed gray;margin: 0 0.4em 0.5em 0.4em;box-sizing: border-box;padding-bottom: 0.4em;background-color: white;}#sk-container-id-1 div.sk-label label {font-family: monospace;font-weight: bold;display: inline-block;line-height: 1.2em;}#sk-container-id-1 div.sk-label-container {text-align: center;}#sk-container-id-1 div.sk-container {/* jupyter's `normalize.less` sets `[hidden] { display: none; }` but bootstrap.min.css set `[hidden] { display: none !important; }` so we also need the `!important` here to be able to override the default hidden behavior on the sphinx rendered scikit-learn.org. See: https://github.com/scikit-learn/scikit-learn/issues/21755 */display: inline-block !important;position: relative;}#sk-container-id-1 div.sk-text-repr-fallback {display: none;}</style><div id=\"sk-container-id-1\" class=\"sk-top-container\"><div class=\"sk-text-repr-fallback\"><pre>MultiOutputClassifier(estimator=LogisticRegression())</pre><b>In a Jupyter environment, please rerun this cell to show the HTML representation or trust the notebook. <br />On GitHub, the HTML representation is unable to render, please try loading this page with nbviewer.org.</b></div><div class=\"sk-container\" hidden><div class=\"sk-item sk-dashed-wrapped\"><div class=\"sk-label-container\"><div class=\"sk-label sk-toggleable\"><input class=\"sk-toggleable__control sk-hidden--visually\" id=\"sk-estimator-id-1\" type=\"checkbox\" ><label for=\"sk-estimator-id-1\" class=\"sk-toggleable__label sk-toggleable__label-arrow\">MultiOutputClassifier</label><div class=\"sk-toggleable__content\"><pre>MultiOutputClassifier(estimator=LogisticRegression())</pre></div></div></div><div class=\"sk-parallel\"><div class=\"sk-parallel-item\"><div class=\"sk-item\"><div class=\"sk-label-container\"><div class=\"sk-label sk-toggleable\"><input class=\"sk-toggleable__control sk-hidden--visually\" id=\"sk-estimator-id-2\" type=\"checkbox\" ><label for=\"sk-estimator-id-2\" class=\"sk-toggleable__label sk-toggleable__label-arrow\">estimator: LogisticRegression</label><div class=\"sk-toggleable__content\"><pre>LogisticRegression()</pre></div></div></div><div class=\"sk-serial\"><div class=\"sk-item\"><div class=\"sk-estimator sk-toggleable\"><input class=\"sk-toggleable__control sk-hidden--visually\" id=\"sk-estimator-id-3\" type=\"checkbox\" ><label for=\"sk-estimator-id-3\" class=\"sk-toggleable__label sk-toggleable__label-arrow\">LogisticRegression</label><div class=\"sk-toggleable__content\"><pre>LogisticRegression()</pre></div></div></div></div></div></div></div></div></div></div>"
            ]
          },
          "metadata": {},
          "execution_count": 37
        }
      ]
    },
    {
      "cell_type": "code",
      "source": [
        "from sklearn.metrics import accuracy_score\n",
        "print('Accuracy on test data: {:.1f}%'.format(accuracy_score(y_test, model.predict(X_test))*100))"
      ],
      "metadata": {
        "id": "bDwUKLtOvOay",
        "colab": {
          "base_uri": "https://localhost:8080/"
        },
        "outputId": "40b01365-e7e5-4b66-fc21-caf62fb54622"
      },
      "execution_count": null,
      "outputs": [
        {
          "output_type": "stream",
          "name": "stdout",
          "text": [
            "Accuracy on test data: 62.3%\n"
          ]
        }
      ]
    },
    {
      "cell_type": "code",
      "source": [
        "from gensim.models import Word2Vec"
      ],
      "metadata": {
        "id": "YtNzCw3OvOYE"
      },
      "execution_count": null,
      "outputs": []
    },
    {
      "cell_type": "markdown",
      "source": [
        "##SVM"
      ],
      "metadata": {
        "id": "sSFpb-IPCHyz"
      }
    },
    {
      "cell_type": "code",
      "source": [
        "import sklearn\n",
        "from sklearn.multioutput import MultiOutputClassifier\n",
        "svm = sklearn.svm.SVC()"
      ],
      "metadata": {
        "id": "Thbytg-5B9Hr"
      },
      "execution_count": null,
      "outputs": []
    },
    {
      "cell_type": "code",
      "source": [
        "mod =  MultiOutputClassifier(svm)\n",
        "mod.fit(X_train,y_train)\n",
        "print('Accuracy on test data: {:.1f}%'.format(accuracy_score(y_test, model.predict(X_test))*100))"
      ],
      "metadata": {
        "id": "RBgQa0k1B-rT",
        "colab": {
          "base_uri": "https://localhost:8080/"
        },
        "outputId": "4787f6e6-b905-4409-9d42-6be2ca28049d"
      },
      "execution_count": null,
      "outputs": [
        {
          "output_type": "stream",
          "name": "stdout",
          "text": [
            "Accuracy on test data: 62.3%\n"
          ]
        }
      ]
    },
    {
      "cell_type": "markdown",
      "source": [
        "##XG"
      ],
      "metadata": {
        "id": "ibdWZRWBFzOs"
      }
    },
    {
      "cell_type": "code",
      "source": [
        "import xgboost as xgb\n",
        "xgb = xgb.XGBClassifier()\n",
        "\n",
        "model =  MultiOutputClassifier(xgb)\n",
        "\n",
        "model.fit(X_train,y_train)\n",
        "\n",
        "print('Accuracy on test data: {:.1f}%'.format(accuracy_score(y_test, model.predict(X_test))*100))"
      ],
      "metadata": {
        "colab": {
          "base_uri": "https://localhost:8080/"
        },
        "id": "XuhNqYHWFuzw",
        "outputId": "12aa06e4-e3cf-4071-f834-c4db0fdc8db9"
      },
      "execution_count": null,
      "outputs": [
        {
          "output_type": "stream",
          "name": "stdout",
          "text": [
            "Accuracy on test data: 60.4%\n"
          ]
        }
      ]
    },
    {
      "cell_type": "markdown",
      "source": [
        "##Word2Vec"
      ],
      "metadata": {
        "id": "0okaSrEZ_j4p"
      }
    },
    {
      "cell_type": "code",
      "source": [
        "from gensim.models import Word2Vec"
      ],
      "metadata": {
        "id": "8h6URnQEM62B"
      },
      "execution_count": null,
      "outputs": []
    },
    {
      "cell_type": "code",
      "source": [
        "sentences = [review.split() for review in data['Article']]\n",
        "mod = Word2Vec(sentences, size=100, window=5, min_count=1, workers=4)\n",
        "mod.save('word2vec.model')"
      ],
      "metadata": {
        "id": "F0d2WvJQM6yi"
      },
      "execution_count": null,
      "outputs": []
    },
    {
      "cell_type": "code",
      "source": [
        "# Convert each word to vector and represent the sentence in vector form using the word embeddings\n",
        "def sentence_vector(sentence,model):\n",
        "    words = sentence.split()\n",
        "    word_vectors = [model.wv[word] for word in words if word in model.wv.vocab]\n",
        "    if len(word_vectors) == 0:\n",
        "        return np.zeros((100,))\n",
        "    return np.mean(word_vectors, axis=0)"
      ],
      "metadata": {
        "id": "jJxjUFSVHfrV"
      },
      "execution_count": null,
      "outputs": []
    },
    {
      "cell_type": "code",
      "source": [
        "from gensim.models import Word2Vec\n",
        "\n",
        "# Load the Word2Vec model\n",
        "model = Word2Vec.load('word2vec.model')\n",
        "\n",
        "# Define a function to generate sentence vectors\n",
        "def sentence_vector(sentence, model):\n",
        "    words = sentence.split()\n",
        "    word_vectors = [model.wv[word] for word in words if word in model.wv.vocab]\n",
        "    if len(word_vectors) == 0:\n",
        "        return np.zeros((100,))\n",
        "    else:\n",
        "        return np.mean(word_vectors, axis=0)\n",
        "\n",
        "# Convert each sentence in the dataset to a vector using the Word2Vec model\n",
        "word2vec_train = np.array([sentence_vector(sentence, model) for sentence in data['Article']])\n",
        "word2vec_test = np.array(y)\n"
      ],
      "metadata": {
        "id": "8R2IrHAVQjIF"
      },
      "execution_count": null,
      "outputs": []
    },
    {
      "cell_type": "markdown",
      "source": [
        "##Logistic "
      ],
      "metadata": {
        "id": "7uRT2GMlCaiW"
      }
    },
    {
      "cell_type": "code",
      "source": [
        "log = sklearn.linear_model.LogisticRegression()"
      ],
      "metadata": {
        "id": "Zd3KHURAH8Z7"
      },
      "execution_count": null,
      "outputs": []
    },
    {
      "cell_type": "code",
      "source": [
        "model1 =  MultiOutputClassifier(log)"
      ],
      "metadata": {
        "id": "aoNfAM-qH8OI"
      },
      "execution_count": null,
      "outputs": []
    },
    {
      "cell_type": "code",
      "source": [
        "model1.fit(X_train,y_train)"
      ],
      "metadata": {
        "colab": {
          "base_uri": "https://localhost:8080/",
          "height": 117
        },
        "id": "NbDuWNSISIuo",
        "outputId": "e46c8a4c-df2d-4962-e365-9c67eb44443c"
      },
      "execution_count": null,
      "outputs": [
        {
          "output_type": "execute_result",
          "data": {
            "text/plain": [
              "MultiOutputClassifier(estimator=LogisticRegression())"
            ],
            "text/html": [
              "<style>#sk-container-id-2 {color: black;background-color: white;}#sk-container-id-2 pre{padding: 0;}#sk-container-id-2 div.sk-toggleable {background-color: white;}#sk-container-id-2 label.sk-toggleable__label {cursor: pointer;display: block;width: 100%;margin-bottom: 0;padding: 0.3em;box-sizing: border-box;text-align: center;}#sk-container-id-2 label.sk-toggleable__label-arrow:before {content: \"▸\";float: left;margin-right: 0.25em;color: #696969;}#sk-container-id-2 label.sk-toggleable__label-arrow:hover:before {color: black;}#sk-container-id-2 div.sk-estimator:hover label.sk-toggleable__label-arrow:before {color: black;}#sk-container-id-2 div.sk-toggleable__content {max-height: 0;max-width: 0;overflow: hidden;text-align: left;background-color: #f0f8ff;}#sk-container-id-2 div.sk-toggleable__content pre {margin: 0.2em;color: black;border-radius: 0.25em;background-color: #f0f8ff;}#sk-container-id-2 input.sk-toggleable__control:checked~div.sk-toggleable__content {max-height: 200px;max-width: 100%;overflow: auto;}#sk-container-id-2 input.sk-toggleable__control:checked~label.sk-toggleable__label-arrow:before {content: \"▾\";}#sk-container-id-2 div.sk-estimator input.sk-toggleable__control:checked~label.sk-toggleable__label {background-color: #d4ebff;}#sk-container-id-2 div.sk-label input.sk-toggleable__control:checked~label.sk-toggleable__label {background-color: #d4ebff;}#sk-container-id-2 input.sk-hidden--visually {border: 0;clip: rect(1px 1px 1px 1px);clip: rect(1px, 1px, 1px, 1px);height: 1px;margin: -1px;overflow: hidden;padding: 0;position: absolute;width: 1px;}#sk-container-id-2 div.sk-estimator {font-family: monospace;background-color: #f0f8ff;border: 1px dotted black;border-radius: 0.25em;box-sizing: border-box;margin-bottom: 0.5em;}#sk-container-id-2 div.sk-estimator:hover {background-color: #d4ebff;}#sk-container-id-2 div.sk-parallel-item::after {content: \"\";width: 100%;border-bottom: 1px solid gray;flex-grow: 1;}#sk-container-id-2 div.sk-label:hover label.sk-toggleable__label {background-color: #d4ebff;}#sk-container-id-2 div.sk-serial::before {content: \"\";position: absolute;border-left: 1px solid gray;box-sizing: border-box;top: 0;bottom: 0;left: 50%;z-index: 0;}#sk-container-id-2 div.sk-serial {display: flex;flex-direction: column;align-items: center;background-color: white;padding-right: 0.2em;padding-left: 0.2em;position: relative;}#sk-container-id-2 div.sk-item {position: relative;z-index: 1;}#sk-container-id-2 div.sk-parallel {display: flex;align-items: stretch;justify-content: center;background-color: white;position: relative;}#sk-container-id-2 div.sk-item::before, #sk-container-id-2 div.sk-parallel-item::before {content: \"\";position: absolute;border-left: 1px solid gray;box-sizing: border-box;top: 0;bottom: 0;left: 50%;z-index: -1;}#sk-container-id-2 div.sk-parallel-item {display: flex;flex-direction: column;z-index: 1;position: relative;background-color: white;}#sk-container-id-2 div.sk-parallel-item:first-child::after {align-self: flex-end;width: 50%;}#sk-container-id-2 div.sk-parallel-item:last-child::after {align-self: flex-start;width: 50%;}#sk-container-id-2 div.sk-parallel-item:only-child::after {width: 0;}#sk-container-id-2 div.sk-dashed-wrapped {border: 1px dashed gray;margin: 0 0.4em 0.5em 0.4em;box-sizing: border-box;padding-bottom: 0.4em;background-color: white;}#sk-container-id-2 div.sk-label label {font-family: monospace;font-weight: bold;display: inline-block;line-height: 1.2em;}#sk-container-id-2 div.sk-label-container {text-align: center;}#sk-container-id-2 div.sk-container {/* jupyter's `normalize.less` sets `[hidden] { display: none; }` but bootstrap.min.css set `[hidden] { display: none !important; }` so we also need the `!important` here to be able to override the default hidden behavior on the sphinx rendered scikit-learn.org. See: https://github.com/scikit-learn/scikit-learn/issues/21755 */display: inline-block !important;position: relative;}#sk-container-id-2 div.sk-text-repr-fallback {display: none;}</style><div id=\"sk-container-id-2\" class=\"sk-top-container\"><div class=\"sk-text-repr-fallback\"><pre>MultiOutputClassifier(estimator=LogisticRegression())</pre><b>In a Jupyter environment, please rerun this cell to show the HTML representation or trust the notebook. <br />On GitHub, the HTML representation is unable to render, please try loading this page with nbviewer.org.</b></div><div class=\"sk-container\" hidden><div class=\"sk-item sk-dashed-wrapped\"><div class=\"sk-label-container\"><div class=\"sk-label sk-toggleable\"><input class=\"sk-toggleable__control sk-hidden--visually\" id=\"sk-estimator-id-4\" type=\"checkbox\" ><label for=\"sk-estimator-id-4\" class=\"sk-toggleable__label sk-toggleable__label-arrow\">MultiOutputClassifier</label><div class=\"sk-toggleable__content\"><pre>MultiOutputClassifier(estimator=LogisticRegression())</pre></div></div></div><div class=\"sk-parallel\"><div class=\"sk-parallel-item\"><div class=\"sk-item\"><div class=\"sk-label-container\"><div class=\"sk-label sk-toggleable\"><input class=\"sk-toggleable__control sk-hidden--visually\" id=\"sk-estimator-id-5\" type=\"checkbox\" ><label for=\"sk-estimator-id-5\" class=\"sk-toggleable__label sk-toggleable__label-arrow\">estimator: LogisticRegression</label><div class=\"sk-toggleable__content\"><pre>LogisticRegression()</pre></div></div></div><div class=\"sk-serial\"><div class=\"sk-item\"><div class=\"sk-estimator sk-toggleable\"><input class=\"sk-toggleable__control sk-hidden--visually\" id=\"sk-estimator-id-6\" type=\"checkbox\" ><label for=\"sk-estimator-id-6\" class=\"sk-toggleable__label sk-toggleable__label-arrow\">LogisticRegression</label><div class=\"sk-toggleable__content\"><pre>LogisticRegression()</pre></div></div></div></div></div></div></div></div></div></div>"
            ]
          },
          "metadata": {},
          "execution_count": 49
        }
      ]
    },
    {
      "cell_type": "code",
      "source": [
        "print('Accuracy on test data: {:.1f}%'.format(accuracy_score(y_test, model1.predict(X_test))*100))"
      ],
      "metadata": {
        "colab": {
          "base_uri": "https://localhost:8080/"
        },
        "id": "Lpx0LvrBSJsO",
        "outputId": "dc2dedd8-ded9-45bb-feef-0d39b4f4b8c9"
      },
      "execution_count": null,
      "outputs": [
        {
          "output_type": "stream",
          "name": "stdout",
          "text": [
            "Accuracy on test data: 62.3%\n"
          ]
        }
      ]
    },
    {
      "cell_type": "markdown",
      "source": [
        "##SVM"
      ],
      "metadata": {
        "id": "SyhH7V3DCXAk"
      }
    },
    {
      "cell_type": "code",
      "source": [
        "model=  MultiOutputClassifier(svm)\n",
        "model.fit(X_train,y_train)\n",
        "print('Accuracy on test data: {:.1f}%'.format(accuracy_score(y_test, model.predict(X_test))*100))"
      ],
      "metadata": {
        "id": "W9bv_ITTSP-5",
        "colab": {
          "base_uri": "https://localhost:8080/"
        },
        "outputId": "81ee0ffb-c278-49d7-aad4-972e1266c382"
      },
      "execution_count": null,
      "outputs": [
        {
          "output_type": "stream",
          "name": "stdout",
          "text": [
            "Accuracy on test data: 64.1%\n"
          ]
        }
      ]
    },
    {
      "cell_type": "markdown",
      "source": [
        "##XG"
      ],
      "metadata": {
        "id": "sfc5Q1WWFxnl"
      }
    },
    {
      "cell_type": "code",
      "source": [
        "import xgboost as xgb\n",
        "xgb = xgb.XGBClassifier()\n",
        "\n",
        "model =  MultiOutputClassifier(xgb)\n",
        "\n",
        "model.fit(X_train,y_train)\n",
        "\n",
        "print('Accuracy on test data: {:.1f}%'.format(accuracy_score(y_test, model.predict(X_test))*100))"
      ],
      "metadata": {
        "colab": {
          "base_uri": "https://localhost:8080/"
        },
        "id": "lTTLtWIOFwGl",
        "outputId": "129521d7-06c1-496f-8883-9456f71227ce"
      },
      "execution_count": null,
      "outputs": [
        {
          "output_type": "stream",
          "name": "stdout",
          "text": [
            "Accuracy on test data: 60.4%\n"
          ]
        }
      ]
    },
    {
      "cell_type": "markdown",
      "source": [
        "# **COMBINING TFIDF AND WORD2VEC**"
      ],
      "metadata": {
        "id": "OMrMFGc3tcWG"
      }
    },
    {
      "cell_type": "code",
      "source": [
        "def combine_vectors(doc):\n",
        "    tfidf_vec = vectorizer.transform([doc])\n",
        "    w2v_vec = sentence_vector(doc, model)\n",
        "    combined_vec = np.concatenate([np.squeeze(tfidf_vec.toarray()), w2v_vec])\n",
        "    return combined_vec"
      ],
      "metadata": {
        "id": "CSPvbj3BTL-h"
      },
      "execution_count": null,
      "outputs": []
    },
    {
      "cell_type": "code",
      "source": [
        "from gensim.models import Word2Vec\n",
        "\n",
        "# Load the Word2Vec model\n",
        "model = Word2Vec.load('word2vec.model')\n",
        "\n",
        "# Define a function to generate sentence vectors\n",
        "def sentence_vector(sentence, model):\n",
        "    words = sentence.split()\n",
        "    word_vectors = [model.wv[word] for word in words if word in model.wv.vocab]\n",
        "    if len(word_vectors) == 0:\n",
        "        return np.zeros((100,))\n",
        "    else:\n",
        "        return np.mean(word_vectors, axis=0)\n",
        "\n",
        "# Define a function to combine the sentence vectors\n",
        "def combine_vectors(doc):\n",
        "    vectors = [sentence_vector(sent, model) for sent in doc.split('.') if sent != '']\n",
        "    if len(vectors) == 0:\n",
        "        return np.zeros((100,))\n",
        "    else:\n",
        "        return np.mean(vectors, axis=0)\n",
        "\n",
        "# Combine the sentence vectors for each document in the dataset\n",
        "comb_train = np.array([combine_vectors(doc) for doc in data['Article']])\n",
        "comb_test = np.array(y)\n",
        "\n",
        "\n",
        "\n"
      ],
      "metadata": {
        "id": "kHDc2GasXbvI"
      },
      "execution_count": null,
      "outputs": []
    },
    {
      "cell_type": "markdown",
      "source": [
        "##Logistics"
      ],
      "metadata": {
        "id": "RhtTyOtyCky_"
      }
    },
    {
      "cell_type": "code",
      "source": [
        "logis = sklearn.linear_model.LogisticRegression()"
      ],
      "metadata": {
        "id": "2FFcmejqTL2p"
      },
      "execution_count": null,
      "outputs": []
    },
    {
      "cell_type": "code",
      "source": [
        "model2 =  MultiOutputClassifier(logis)"
      ],
      "metadata": {
        "id": "e7f4RkezTLwy"
      },
      "execution_count": null,
      "outputs": []
    },
    {
      "cell_type": "code",
      "source": [
        "model2.fit(X_train,y_train)"
      ],
      "metadata": {
        "colab": {
          "base_uri": "https://localhost:8080/",
          "height": 117
        },
        "id": "Uilu53scuT9k",
        "outputId": "3f4edaac-20f2-4b96-8354-f97fce66f554"
      },
      "execution_count": null,
      "outputs": [
        {
          "output_type": "execute_result",
          "data": {
            "text/plain": [
              "MultiOutputClassifier(estimator=LogisticRegression())"
            ],
            "text/html": [
              "<style>#sk-container-id-3 {color: black;background-color: white;}#sk-container-id-3 pre{padding: 0;}#sk-container-id-3 div.sk-toggleable {background-color: white;}#sk-container-id-3 label.sk-toggleable__label {cursor: pointer;display: block;width: 100%;margin-bottom: 0;padding: 0.3em;box-sizing: border-box;text-align: center;}#sk-container-id-3 label.sk-toggleable__label-arrow:before {content: \"▸\";float: left;margin-right: 0.25em;color: #696969;}#sk-container-id-3 label.sk-toggleable__label-arrow:hover:before {color: black;}#sk-container-id-3 div.sk-estimator:hover label.sk-toggleable__label-arrow:before {color: black;}#sk-container-id-3 div.sk-toggleable__content {max-height: 0;max-width: 0;overflow: hidden;text-align: left;background-color: #f0f8ff;}#sk-container-id-3 div.sk-toggleable__content pre {margin: 0.2em;color: black;border-radius: 0.25em;background-color: #f0f8ff;}#sk-container-id-3 input.sk-toggleable__control:checked~div.sk-toggleable__content {max-height: 200px;max-width: 100%;overflow: auto;}#sk-container-id-3 input.sk-toggleable__control:checked~label.sk-toggleable__label-arrow:before {content: \"▾\";}#sk-container-id-3 div.sk-estimator input.sk-toggleable__control:checked~label.sk-toggleable__label {background-color: #d4ebff;}#sk-container-id-3 div.sk-label input.sk-toggleable__control:checked~label.sk-toggleable__label {background-color: #d4ebff;}#sk-container-id-3 input.sk-hidden--visually {border: 0;clip: rect(1px 1px 1px 1px);clip: rect(1px, 1px, 1px, 1px);height: 1px;margin: -1px;overflow: hidden;padding: 0;position: absolute;width: 1px;}#sk-container-id-3 div.sk-estimator {font-family: monospace;background-color: #f0f8ff;border: 1px dotted black;border-radius: 0.25em;box-sizing: border-box;margin-bottom: 0.5em;}#sk-container-id-3 div.sk-estimator:hover {background-color: #d4ebff;}#sk-container-id-3 div.sk-parallel-item::after {content: \"\";width: 100%;border-bottom: 1px solid gray;flex-grow: 1;}#sk-container-id-3 div.sk-label:hover label.sk-toggleable__label {background-color: #d4ebff;}#sk-container-id-3 div.sk-serial::before {content: \"\";position: absolute;border-left: 1px solid gray;box-sizing: border-box;top: 0;bottom: 0;left: 50%;z-index: 0;}#sk-container-id-3 div.sk-serial {display: flex;flex-direction: column;align-items: center;background-color: white;padding-right: 0.2em;padding-left: 0.2em;position: relative;}#sk-container-id-3 div.sk-item {position: relative;z-index: 1;}#sk-container-id-3 div.sk-parallel {display: flex;align-items: stretch;justify-content: center;background-color: white;position: relative;}#sk-container-id-3 div.sk-item::before, #sk-container-id-3 div.sk-parallel-item::before {content: \"\";position: absolute;border-left: 1px solid gray;box-sizing: border-box;top: 0;bottom: 0;left: 50%;z-index: -1;}#sk-container-id-3 div.sk-parallel-item {display: flex;flex-direction: column;z-index: 1;position: relative;background-color: white;}#sk-container-id-3 div.sk-parallel-item:first-child::after {align-self: flex-end;width: 50%;}#sk-container-id-3 div.sk-parallel-item:last-child::after {align-self: flex-start;width: 50%;}#sk-container-id-3 div.sk-parallel-item:only-child::after {width: 0;}#sk-container-id-3 div.sk-dashed-wrapped {border: 1px dashed gray;margin: 0 0.4em 0.5em 0.4em;box-sizing: border-box;padding-bottom: 0.4em;background-color: white;}#sk-container-id-3 div.sk-label label {font-family: monospace;font-weight: bold;display: inline-block;line-height: 1.2em;}#sk-container-id-3 div.sk-label-container {text-align: center;}#sk-container-id-3 div.sk-container {/* jupyter's `normalize.less` sets `[hidden] { display: none; }` but bootstrap.min.css set `[hidden] { display: none !important; }` so we also need the `!important` here to be able to override the default hidden behavior on the sphinx rendered scikit-learn.org. See: https://github.com/scikit-learn/scikit-learn/issues/21755 */display: inline-block !important;position: relative;}#sk-container-id-3 div.sk-text-repr-fallback {display: none;}</style><div id=\"sk-container-id-3\" class=\"sk-top-container\"><div class=\"sk-text-repr-fallback\"><pre>MultiOutputClassifier(estimator=LogisticRegression())</pre><b>In a Jupyter environment, please rerun this cell to show the HTML representation or trust the notebook. <br />On GitHub, the HTML representation is unable to render, please try loading this page with nbviewer.org.</b></div><div class=\"sk-container\" hidden><div class=\"sk-item sk-dashed-wrapped\"><div class=\"sk-label-container\"><div class=\"sk-label sk-toggleable\"><input class=\"sk-toggleable__control sk-hidden--visually\" id=\"sk-estimator-id-7\" type=\"checkbox\" ><label for=\"sk-estimator-id-7\" class=\"sk-toggleable__label sk-toggleable__label-arrow\">MultiOutputClassifier</label><div class=\"sk-toggleable__content\"><pre>MultiOutputClassifier(estimator=LogisticRegression())</pre></div></div></div><div class=\"sk-parallel\"><div class=\"sk-parallel-item\"><div class=\"sk-item\"><div class=\"sk-label-container\"><div class=\"sk-label sk-toggleable\"><input class=\"sk-toggleable__control sk-hidden--visually\" id=\"sk-estimator-id-8\" type=\"checkbox\" ><label for=\"sk-estimator-id-8\" class=\"sk-toggleable__label sk-toggleable__label-arrow\">estimator: LogisticRegression</label><div class=\"sk-toggleable__content\"><pre>LogisticRegression()</pre></div></div></div><div class=\"sk-serial\"><div class=\"sk-item\"><div class=\"sk-estimator sk-toggleable\"><input class=\"sk-toggleable__control sk-hidden--visually\" id=\"sk-estimator-id-9\" type=\"checkbox\" ><label for=\"sk-estimator-id-9\" class=\"sk-toggleable__label sk-toggleable__label-arrow\">LogisticRegression</label><div class=\"sk-toggleable__content\"><pre>LogisticRegression()</pre></div></div></div></div></div></div></div></div></div></div>"
            ]
          },
          "metadata": {},
          "execution_count": 57
        }
      ]
    },
    {
      "cell_type": "code",
      "source": [
        "print('Accuracy on test data: {:.1f}%'.format(accuracy_score(y_test, model2.predict(X_test))*100))"
      ],
      "metadata": {
        "colab": {
          "base_uri": "https://localhost:8080/"
        },
        "id": "MdmxW3S6ukqU",
        "outputId": "60875e28-3090-44cc-d4e5-47bba015acf2"
      },
      "execution_count": null,
      "outputs": [
        {
          "output_type": "stream",
          "name": "stdout",
          "text": [
            "Accuracy on test data: 62.3%\n"
          ]
        }
      ]
    },
    {
      "cell_type": "markdown",
      "source": [
        "##XGBoosting"
      ],
      "metadata": {
        "id": "WDYVdc1Z_rt_"
      }
    },
    {
      "cell_type": "code",
      "source": [
        "import xgboost as xgb\n",
        "xgb = xgb.XGBClassifier()\n",
        "\n",
        "model =  MultiOutputClassifier(xgb)\n",
        "\n",
        "model.fit(X_train,y_train)\n",
        "\n",
        "print('Accuracy on test data: {:.1f}%'.format(accuracy_score(y_test, model.predict(X_test))*100))"
      ],
      "metadata": {
        "colab": {
          "base_uri": "https://localhost:8080/"
        },
        "id": "sBqL-N5jiH7Z",
        "outputId": "6890a409-48a9-48c3-ea92-15af492d78cf"
      },
      "execution_count": null,
      "outputs": [
        {
          "output_type": "stream",
          "name": "stdout",
          "text": [
            "Accuracy on test data: 60.4%\n"
          ]
        }
      ]
    },
    {
      "cell_type": "markdown",
      "source": [
        "##SVM"
      ],
      "metadata": {
        "id": "cZMxp3H2FnTS"
      }
    },
    {
      "cell_type": "code",
      "source": [
        "model3=  MultiOutputClassifier(svm)"
      ],
      "metadata": {
        "id": "dPMF77KuiH3k"
      },
      "execution_count": null,
      "outputs": []
    },
    {
      "cell_type": "code",
      "source": [
        "model3.fit(X_train,y_train)\n",
        "print('Accuracy on test data: {:.1f}%'.format(accuracy_score(y_test, model3.predict(X_test))*100))"
      ],
      "metadata": {
        "id": "TILFiDydCzwp",
        "colab": {
          "base_uri": "https://localhost:8080/"
        },
        "outputId": "fb1c7a5a-66a3-43da-949c-febc82ff8157"
      },
      "execution_count": null,
      "outputs": [
        {
          "output_type": "stream",
          "name": "stdout",
          "text": [
            "Accuracy on test data: 64.1%\n"
          ]
        }
      ]
    }
  ]
}